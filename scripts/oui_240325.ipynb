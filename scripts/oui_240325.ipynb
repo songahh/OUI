{
 "cells": [
  {
   "cell_type": "markdown",
   "id": "3ab0fa98-a2be-40f8-8163-0a67346a66f4",
   "metadata": {},
   "source": [
    "# OUI"
   ]
  },
  {
   "cell_type": "markdown",
   "id": "b90e0d87-5897-4adc-9873-fd94ace9576b",
   "metadata": {},
   "source": [
    "### package load 및 device 지정"
   ]
  },
  {
   "cell_type": "code",
   "execution_count": 1,
   "id": "51da7edb-72f9-4bcc-a370-a136d8d28884",
   "metadata": {},
   "outputs": [],
   "source": [
    "import torch\n",
    "from torch import nn\n",
    "import torch.nn.functional as F\n",
    "import torch.optim as optim\n",
    "from torch.utils.data import Dataset, DataLoader\n",
    "import gluonnlp as nlp\n",
    "import numpy as np\n",
    "from tqdm.notebook import tqdm\n",
    "import pandas as pd"
   ]
  },
  {
   "cell_type": "code",
   "execution_count": 2,
   "id": "34a33eca-3547-4a04-8846-f1e920d6c9a3",
   "metadata": {},
   "outputs": [],
   "source": [
    "from kobert import get_tokenizer\n",
    "from kobert import get_pytorch_kobert_model"
   ]
  },
  {
   "cell_type": "code",
   "execution_count": 3,
   "id": "37d53e82-ada4-4c6d-bc15-ef7da3927778",
   "metadata": {},
   "outputs": [],
   "source": [
    "from transformers import AdamW\n",
    "from transformers.optimization import get_cosine_schedule_with_warmup"
   ]
  },
  {
   "cell_type": "code",
   "execution_count": 4,
   "id": "9f8d9bff-8978-4c1b-a257-d56653465083",
   "metadata": {},
   "outputs": [
    {
     "name": "stdout",
     "output_type": "stream",
     "text": [
      "cuda:3\n"
     ]
    }
   ],
   "source": [
    "import os\n",
    "\n",
    "os.environ[\"CUDA_DEVICE_ORDER\"] = \"PCI_BUS_ID\"\n",
    "#os.environ[\"CUDA_VISIBLE_DEVICES\"] = \"3\"\n",
    "#os.environ['CUDA_LAUNCH_BLOCKING'] = \"1\"\n",
    "#os.environ[\"TORCH_USE_CUDA_DSA\"] = '1'\n",
    "#device = torch.device(\"cuda:3\" if torch.cuda.is_available() else \"cpu\")\n",
    "#torch.cuda.device_count()\n",
    "device = torch.device(\"cuda:3\")\n",
    "print(device)"
   ]
  },
  {
   "cell_type": "markdown",
   "id": "72321491-de20-412f-8ef0-4980c75b404b",
   "metadata": {},
   "source": [
    "### 데이터세트 구성"
   ]
  },
  {
   "cell_type": "code",
   "execution_count": 5,
   "id": "ca0dbd7c-2c6a-4822-a8a1-3be5fbfb822a",
   "metadata": {},
   "outputs": [],
   "source": [
    "train_dataset = nlp.data.TSVDataset(os.path.join(\"../dataset/train\", \"train.tsv\"), num_discard_samples=1)\n",
    "test_dataset = nlp.data.TSVDataset(os.path.join(\"../dataset/test\", \"valid.tsv\"), num_discard_samples=1)"
   ]
  },
  {
   "cell_type": "code",
   "execution_count": 6,
   "id": "84543657-a646-4d6b-9e6f-6bd33cd621c3",
   "metadata": {
    "scrolled": true
   },
   "outputs": [
    {
     "name": "stdout",
     "output_type": "stream",
     "text": [
      "using cached model. /home/j-j10a506/oui/KoBERT/.cache/kobert_v1.zip\n",
      "using cached model. /home/j-j10a506/oui/KoBERT/.cache/kobert_news_wiki_ko_cased-1087f8699e.spiece\n"
     ]
    }
   ],
   "source": [
    "bertmodel, vocab = get_pytorch_kobert_model(cachedir=\".cache\")"
   ]
  },
  {
   "cell_type": "code",
   "execution_count": 7,
   "id": "9dfd2ff2-9efd-438d-b5e0-8a4ffdbe229d",
   "metadata": {},
   "outputs": [
    {
     "name": "stdout",
     "output_type": "stream",
     "text": [
      "using cached model. /home/j-j10a506/oui/KoBERT/.cache/kobert_news_wiki_ko_cased-1087f8699e.spiece\n"
     ]
    }
   ],
   "source": [
    "tokenizer = get_tokenizer()\n",
    "tok = nlp.data.BERTSPTokenizer(tokenizer, vocab, lower=False)"
   ]
  },
  {
   "cell_type": "code",
   "execution_count": 8,
   "id": "447fc987-6a51-4419-9bd6-2cc50f440ed9",
   "metadata": {},
   "outputs": [],
   "source": [
    "batch_size = 128\n",
    "max_len = 100"
   ]
  },
  {
   "cell_type": "code",
   "execution_count": 9,
   "id": "462e4221-0d71-4eab-b18f-817b942c0447",
   "metadata": {},
   "outputs": [],
   "source": [
    "class BERTDataset(Dataset):\n",
    "    def __init__(self, dataset, sent_idx, label_idx, bert_tokenizer, max_len,\n",
    "                 pad, pair):\n",
    "        transform = nlp.data.BERTSentenceTransform(\n",
    "            bert_tokenizer, max_seq_length=max_len, pad=pad, pair=pair)\n",
    "\n",
    "        self.sentences = []\n",
    "        self.labels = []\n",
    "        for i in dataset:\n",
    "            if len(i)!=2:\n",
    "                continue\n",
    "\n",
    "            self.sentences.append(transform([i[sent_idx]]))\n",
    "            self.labels.append(np.int32(i[label_idx]))\n",
    "        \n",
    "\n",
    "    def __getitem__(self, i):\n",
    "        return (self.sentences[i] + (self.labels[i], ))\n",
    "\n",
    "    def __len__(self):\n",
    "        return (len(self.labels))"
   ]
  },
  {
   "cell_type": "code",
   "execution_count": 10,
   "id": "9d33d8de-1932-438b-a777-2f9ee6627a7b",
   "metadata": {},
   "outputs": [],
   "source": [
    "data_train = BERTDataset(train_dataset, 0, 1, tok, max_len, True, False)\n",
    "data_test = BERTDataset(test_dataset, 0, 1, tok, max_len, True, False)"
   ]
  },
  {
   "cell_type": "code",
   "execution_count": 11,
   "id": "31c5960b-e6db-4c22-946a-bc39d46c864e",
   "metadata": {},
   "outputs": [],
   "source": [
    "train_dataloader = DataLoader(data_train, batch_size=batch_size, num_workers=5)\n",
    "test_dataloader = DataLoader(data_test, batch_size=batch_size, num_workers=5)"
   ]
  },
  {
   "cell_type": "markdown",
   "id": "7c843ccc-488f-408c-a0ca-a89aa8e173fa",
   "metadata": {},
   "source": [
    "### kobert load\n",
    "* 하이퍼파라미터 조정\n",
    "  * dropout 비율\n",
    "  * learning rate\n",
    "  * warmup_ratio\n",
    "  * learning_rate\n",
    "  * max_grad_norm"
   ]
  },
  {
   "cell_type": "code",
   "execution_count": 12,
   "id": "24c48518-e358-4082-8ea0-35e0f31bb99c",
   "metadata": {},
   "outputs": [],
   "source": [
    "class BERTClassifier(nn.Module):\n",
    "    def __init__(self,\n",
    "                 bert,\n",
    "                 hidden_size = 768,\n",
    "                 num_classes=6,\n",
    "                 dr_rate=None,\n",
    "                 params=None):\n",
    "        super(BERTClassifier, self).__init__()\n",
    "        self.bert = bert\n",
    "        self.dr_rate = dr_rate\n",
    "                 \n",
    "        self.classifier = nn.Linear(hidden_size , num_classes)\n",
    "        if dr_rate:\n",
    "            self.dropout = nn.Dropout(p=dr_rate)\n",
    "    \n",
    "    def gen_attention_mask(self, token_ids, valid_length):\n",
    "        attention_mask = torch.zeros_like(token_ids)\n",
    "        for i, v in enumerate(valid_length):\n",
    "            attention_mask[i][:v] = 1\n",
    "        return attention_mask.float()\n",
    "\n",
    "    def forward(self, token_ids, valid_length, segment_ids):\n",
    "        attention_mask = self.gen_attention_mask(token_ids, valid_length)\n",
    "        \n",
    "        _, pooler = self.bert(input_ids = token_ids, token_type_ids = segment_ids.long(), attention_mask = attention_mask.float().to(token_ids.device))\n",
    "        if self.dr_rate:\n",
    "            out = self.dropout(pooler)\n",
    "        else:\n",
    "            out = pooler\n",
    "        return self.classifier(out)"
   ]
  },
  {
   "cell_type": "code",
   "execution_count": 13,
   "id": "49db92d8-6561-4435-b52f-1ccd3d047758",
   "metadata": {},
   "outputs": [],
   "source": [
    "model = BERTClassifier(bertmodel,  dr_rate=0.3).to(device)"
   ]
  },
  {
   "cell_type": "markdown",
   "id": "d9a1d7f8-4380-4ed0-bf3d-3e6f32cc3d9f",
   "metadata": {},
   "source": [
    "### 학습\n",
    "* best 모델 저장\n",
    "* epoch 수: 최대 20회"
   ]
  },
  {
   "cell_type": "code",
   "execution_count": 14,
   "id": "8373d3ee-a1eb-4e24-92dd-921b3c1c53b1",
   "metadata": {},
   "outputs": [],
   "source": [
    "## Setting parameters\n",
    "warmup_ratio = 0.1 # 학습률 warm up 비율로 학습률을 초기에 점진적으로 높이는데 사용\n",
    "num_epochs = 10\n",
    "max_grad_norm = 1 # Gradient clipping에 사용됨 \n",
    "log_interval = 200\n",
    "learning_rate = 5e-5"
   ]
  },
  {
   "cell_type": "code",
   "execution_count": 15,
   "id": "430e97a1-4395-4a40-977c-ccb6d9fac93c",
   "metadata": {},
   "outputs": [],
   "source": [
    "no_decay = ['bias', 'LayerNorm.weight']\n",
    "optimizer_grouped_parameters = [\n",
    "    {'params': [p for n, p in model.named_parameters() if not any(nd in n for nd in no_decay)], 'weight_decay': 0.01},\n",
    "    {'params': [p for n, p in model.named_parameters() if any(nd in n for nd in no_decay)], 'weight_decay': 0.0}\n",
    "]"
   ]
  },
  {
   "cell_type": "code",
   "execution_count": 16,
   "id": "f14711b8-1dce-406f-b22e-7c4b81258a3a",
   "metadata": {},
   "outputs": [],
   "source": [
    "optimizer = AdamW(optimizer_grouped_parameters, lr=learning_rate)\n",
    "loss_fn = nn.CrossEntropyLoss()"
   ]
  },
  {
   "cell_type": "code",
   "execution_count": 17,
   "id": "e5905dd1-41f8-4f79-a48a-e4eb6d4cf313",
   "metadata": {},
   "outputs": [],
   "source": [
    "t_total = len(train_dataloader) * num_epochs\n",
    "warmup_step = int(t_total * warmup_ratio)"
   ]
  },
  {
   "cell_type": "code",
   "execution_count": 18,
   "id": "48db2088-5dd7-41cd-8473-13b73c6851d6",
   "metadata": {},
   "outputs": [],
   "source": [
    "scheduler = get_cosine_schedule_with_warmup(optimizer, num_warmup_steps=warmup_step, num_training_steps=t_total)"
   ]
  },
  {
   "cell_type": "code",
   "execution_count": 19,
   "id": "fc3d482a-d279-4006-9a75-ac535384deb0",
   "metadata": {},
   "outputs": [],
   "source": [
    "def calc_accuracy(X,Y):\n",
    "    max_vals, max_indices = torch.max(X, 1)\n",
    "    train_acc = (max_indices == Y).sum().data.cpu().numpy()/max_indices.size()[0]\n",
    "    return train_acc"
   ]
  },
  {
   "cell_type": "code",
   "execution_count": 20,
   "id": "24161bdd-2b89-453b-ace0-df8a1f8e27bb",
   "metadata": {},
   "outputs": [
    {
     "data": {
      "application/vnd.jupyter.widget-view+json": {
       "model_id": "b664fe094e774e3fbc901c8b43f0e9c6",
       "version_major": 2,
       "version_minor": 0
      },
      "text/plain": [
       "  0%|          | 0/671 [00:00<?, ?it/s]"
      ]
     },
     "metadata": {},
     "output_type": "display_data"
    },
    {
     "name": "stdout",
     "output_type": "stream",
     "text": [
      "epoch 1 batch id 1 loss 1.7913718223571777 train acc 0.171875\n",
      "epoch 1 batch id 201 loss 1.4582903385162354 train acc 0.32097325870646765\n",
      "epoch 1 batch id 401 loss 1.2914812564849854 train acc 0.37833151496259354\n",
      "epoch 1 batch id 601 loss 1.1051937341690063 train acc 0.42906353993344426\n",
      "epoch 1 train acc 0.44174698102042603\n"
     ]
    },
    {
     "data": {
      "application/vnd.jupyter.widget-view+json": {
       "model_id": "2bbcdbaf6a72428abd78db2a5252490c",
       "version_major": 2,
       "version_minor": 0
      },
      "text/plain": [
       "  0%|          | 0/168 [00:00<?, ?it/s]"
      ]
     },
     "metadata": {},
     "output_type": "display_data"
    },
    {
     "name": "stdout",
     "output_type": "stream",
     "text": [
      "epoch 1 test acc 0.5532987809849967\n"
     ]
    },
    {
     "data": {
      "application/vnd.jupyter.widget-view+json": {
       "model_id": "704f76b8749f4a6e8652c0ae9864b216",
       "version_major": 2,
       "version_minor": 0
      },
      "text/plain": [
       "  0%|          | 0/671 [00:00<?, ?it/s]"
      ]
     },
     "metadata": {},
     "output_type": "display_data"
    },
    {
     "name": "stdout",
     "output_type": "stream",
     "text": [
      "epoch 2 batch id 1 loss 1.1495869159698486 train acc 0.578125\n",
      "epoch 2 batch id 201 loss 1.0727790594100952 train acc 0.5518501243781094\n",
      "epoch 2 batch id 401 loss 1.171034574508667 train acc 0.5584865960099751\n",
      "epoch 2 batch id 601 loss 0.9547896385192871 train acc 0.5680506447587355\n",
      "epoch 2 train acc 0.5703885223985272\n"
     ]
    },
    {
     "data": {
      "application/vnd.jupyter.widget-view+json": {
       "model_id": "2f9f5969c7bb4e4d8f7215bfeb26af8a",
       "version_major": 2,
       "version_minor": 0
      },
      "text/plain": [
       "  0%|          | 0/168 [00:00<?, ?it/s]"
      ]
     },
     "metadata": {},
     "output_type": "display_data"
    },
    {
     "name": "stdout",
     "output_type": "stream",
     "text": [
      "epoch 2 test acc 0.5795385630707762\n"
     ]
    },
    {
     "data": {
      "application/vnd.jupyter.widget-view+json": {
       "model_id": "6d00ecd465374345a4450192dc300767",
       "version_major": 2,
       "version_minor": 0
      },
      "text/plain": [
       "  0%|          | 0/671 [00:00<?, ?it/s]"
      ]
     },
     "metadata": {},
     "output_type": "display_data"
    },
    {
     "name": "stdout",
     "output_type": "stream",
     "text": [
      "epoch 3 batch id 1 loss 1.0698013305664062 train acc 0.578125\n",
      "epoch 3 batch id 201 loss 0.9172974228858948 train acc 0.5991915422885572\n",
      "epoch 3 batch id 401 loss 1.0798733234405518 train acc 0.6036666147132169\n",
      "epoch 3 batch id 601 loss 0.7843312621116638 train acc 0.6122348169717138\n",
      "epoch 3 train acc 0.6148253265538705\n"
     ]
    },
    {
     "data": {
      "application/vnd.jupyter.widget-view+json": {
       "model_id": "e967d27440dd4f928fe236a9ee6c6a76",
       "version_major": 2,
       "version_minor": 0
      },
      "text/plain": [
       "  0%|          | 0/168 [00:00<?, ?it/s]"
      ]
     },
     "metadata": {},
     "output_type": "display_data"
    },
    {
     "name": "stdout",
     "output_type": "stream",
     "text": [
      "epoch 3 test acc 0.5875714744373777\n"
     ]
    },
    {
     "data": {
      "application/vnd.jupyter.widget-view+json": {
       "model_id": "f8f88eab167644229234c3e34e3f2f0f",
       "version_major": 2,
       "version_minor": 0
      },
      "text/plain": [
       "  0%|          | 0/671 [00:00<?, ?it/s]"
      ]
     },
     "metadata": {},
     "output_type": "display_data"
    },
    {
     "name": "stdout",
     "output_type": "stream",
     "text": [
      "epoch 4 batch id 1 loss 0.9815123081207275 train acc 0.578125\n",
      "epoch 4 batch id 201 loss 0.8199601173400879 train acc 0.6440065298507462\n",
      "epoch 4 batch id 401 loss 0.9948267936706543 train acc 0.6485349127182045\n",
      "epoch 4 batch id 601 loss 0.7149920463562012 train acc 0.6590188227953411\n",
      "epoch 4 train acc 0.6618112781625318\n"
     ]
    },
    {
     "data": {
      "application/vnd.jupyter.widget-view+json": {
       "model_id": "fdba5e2923ec4da7a2783b81c06e927b",
       "version_major": 2,
       "version_minor": 0
      },
      "text/plain": [
       "  0%|          | 0/168 [00:00<?, ?it/s]"
      ]
     },
     "metadata": {},
     "output_type": "display_data"
    },
    {
     "name": "stdout",
     "output_type": "stream",
     "text": [
      "epoch 4 test acc 0.581595523483366\n"
     ]
    },
    {
     "data": {
      "application/vnd.jupyter.widget-view+json": {
       "model_id": "c44ef8733a0840518e65e94d24d13793",
       "version_major": 2,
       "version_minor": 0
      },
      "text/plain": [
       "  0%|          | 0/671 [00:00<?, ?it/s]"
      ]
     },
     "metadata": {},
     "output_type": "display_data"
    },
    {
     "name": "stdout",
     "output_type": "stream",
     "text": [
      "epoch 5 batch id 1 loss 0.8731215596199036 train acc 0.6328125\n",
      "epoch 5 batch id 201 loss 0.7259531021118164 train acc 0.6933302238805971\n",
      "epoch 5 batch id 401 loss 0.8998918533325195 train acc 0.6962281795511222\n",
      "epoch 5 batch id 601 loss 0.6099551916122437 train acc 0.7071677412645591\n",
      "epoch 5 train acc 0.7103375394494609\n"
     ]
    },
    {
     "data": {
      "application/vnd.jupyter.widget-view+json": {
       "model_id": "cfdbf70807f946f18b533c467e997571",
       "version_major": 2,
       "version_minor": 0
      },
      "text/plain": [
       "  0%|          | 0/168 [00:00<?, ?it/s]"
      ]
     },
     "metadata": {},
     "output_type": "display_data"
    },
    {
     "name": "stdout",
     "output_type": "stream",
     "text": [
      "epoch 5 test acc 0.5750615368150684\n"
     ]
    },
    {
     "data": {
      "application/vnd.jupyter.widget-view+json": {
       "model_id": "97fc39a638db4bfdb3efb69c131169dc",
       "version_major": 2,
       "version_minor": 0
      },
      "text/plain": [
       "  0%|          | 0/671 [00:00<?, ?it/s]"
      ]
     },
     "metadata": {},
     "output_type": "display_data"
    },
    {
     "name": "stdout",
     "output_type": "stream",
     "text": [
      "epoch 6 batch id 1 loss 0.7810043692588806 train acc 0.6875\n",
      "epoch 6 batch id 201 loss 0.6549832820892334 train acc 0.7320429104477612\n",
      "epoch 6 batch id 401 loss 0.8338111639022827 train acc 0.7368882481296758\n",
      "epoch 6 batch id 601 loss 0.4921830892562866 train acc 0.7498310108153078\n",
      "epoch 6 train acc 0.7524505238011747\n"
     ]
    },
    {
     "data": {
      "application/vnd.jupyter.widget-view+json": {
       "model_id": "d317add7fd264e75ac8a909734b5f71e",
       "version_major": 2,
       "version_minor": 0
      },
      "text/plain": [
       "  0%|          | 0/168 [00:00<?, ?it/s]"
      ]
     },
     "metadata": {},
     "output_type": "display_data"
    },
    {
     "name": "stdout",
     "output_type": "stream",
     "text": [
      "epoch 6 test acc 0.5764101231245923\n"
     ]
    },
    {
     "data": {
      "application/vnd.jupyter.widget-view+json": {
       "model_id": "ca9b588759df4c8c85be810388f9865b",
       "version_major": 2,
       "version_minor": 0
      },
      "text/plain": [
       "  0%|          | 0/671 [00:00<?, ?it/s]"
      ]
     },
     "metadata": {},
     "output_type": "display_data"
    },
    {
     "name": "stdout",
     "output_type": "stream",
     "text": [
      "epoch 7 batch id 1 loss 0.7086150646209717 train acc 0.7265625\n",
      "epoch 7 batch id 201 loss 0.5344706773757935 train acc 0.7709499378109452\n",
      "epoch 7 batch id 401 loss 0.7054784893989563 train acc 0.7774119389027432\n",
      "epoch 7 batch id 601 loss 0.4144899845123291 train acc 0.789595465890183\n",
      "epoch 7 train acc 0.7920342224072938\n"
     ]
    },
    {
     "data": {
      "application/vnd.jupyter.widget-view+json": {
       "model_id": "d61a20b8de084b1aacac60a5c952e48c",
       "version_major": 2,
       "version_minor": 0
      },
      "text/plain": [
       "  0%|          | 0/168 [00:00<?, ?it/s]"
      ]
     },
     "metadata": {},
     "output_type": "display_data"
    },
    {
     "name": "stdout",
     "output_type": "stream",
     "text": [
      "epoch 7 test acc 0.5779561878261579\n"
     ]
    },
    {
     "data": {
      "application/vnd.jupyter.widget-view+json": {
       "model_id": "2831cd91116941338bfab950149b7d6d",
       "version_major": 2,
       "version_minor": 0
      },
      "text/plain": [
       "  0%|          | 0/671 [00:00<?, ?it/s]"
      ]
     },
     "metadata": {},
     "output_type": "display_data"
    },
    {
     "name": "stdout",
     "output_type": "stream",
     "text": [
      "epoch 8 batch id 1 loss 0.5745186805725098 train acc 0.7734375\n",
      "epoch 8 batch id 201 loss 0.4147394299507141 train acc 0.8069029850746269\n",
      "epoch 8 batch id 401 loss 0.5518259406089783 train acc 0.8129675810473815\n",
      "epoch 8 batch id 601 loss 0.3388662040233612 train acc 0.8209234608985025\n",
      "epoch 8 train acc 0.8224082526080477\n"
     ]
    },
    {
     "data": {
      "application/vnd.jupyter.widget-view+json": {
       "model_id": "77b6282193e24c30b3b319025f9d006a",
       "version_major": 2,
       "version_minor": 0
      },
      "text/plain": [
       "  0%|          | 0/168 [00:00<?, ?it/s]"
      ]
     },
     "metadata": {},
     "output_type": "display_data"
    },
    {
     "name": "stdout",
     "output_type": "stream",
     "text": [
      "epoch 8 test acc 0.5773631156229615\n"
     ]
    },
    {
     "data": {
      "application/vnd.jupyter.widget-view+json": {
       "model_id": "7dbda5e5fa004fecb1d69b3bb48a020a",
       "version_major": 2,
       "version_minor": 0
      },
      "text/plain": [
       "  0%|          | 0/671 [00:00<?, ?it/s]"
      ]
     },
     "metadata": {},
     "output_type": "display_data"
    },
    {
     "name": "stdout",
     "output_type": "stream",
     "text": [
      "epoch 9 batch id 1 loss 0.47457626461982727 train acc 0.8203125\n",
      "epoch 9 batch id 201 loss 0.41131624579429626 train acc 0.8310012437810945\n",
      "epoch 9 batch id 401 loss 0.5447052717208862 train acc 0.834612687032419\n",
      "epoch 9 batch id 601 loss 0.3327123820781708 train acc 0.8405912021630616\n",
      "epoch 9 train acc 0.8420617548435171\n"
     ]
    },
    {
     "data": {
      "application/vnd.jupyter.widget-view+json": {
       "model_id": "5f45d6b181904879a49a329162dd16c0",
       "version_major": 2,
       "version_minor": 0
      },
      "text/plain": [
       "  0%|          | 0/168 [00:00<?, ?it/s]"
      ]
     },
     "metadata": {},
     "output_type": "display_data"
    },
    {
     "name": "stdout",
     "output_type": "stream",
     "text": [
      "epoch 9 test acc 0.5789442168134377\n"
     ]
    },
    {
     "data": {
      "application/vnd.jupyter.widget-view+json": {
       "model_id": "30e8d091065842c5958413dda1786c1a",
       "version_major": 2,
       "version_minor": 0
      },
      "text/plain": [
       "  0%|          | 0/671 [00:00<?, ?it/s]"
      ]
     },
     "metadata": {},
     "output_type": "display_data"
    },
    {
     "name": "stdout",
     "output_type": "stream",
     "text": [
      "epoch 10 batch id 1 loss 0.5277906060218811 train acc 0.796875\n",
      "epoch 10 batch id 201 loss 0.4204730987548828 train acc 0.8415345149253731\n",
      "epoch 10 batch id 401 loss 0.48248612880706787 train acc 0.8460099750623441\n",
      "epoch 10 batch id 601 loss 0.2946419417858124 train acc 0.8519004783693843\n",
      "epoch 10 train acc 0.8523775149031296\n"
     ]
    },
    {
     "data": {
      "application/vnd.jupyter.widget-view+json": {
       "model_id": "3cab00f149ff4e6fa5cc29a7603dd1cb",
       "version_major": 2,
       "version_minor": 0
      },
      "text/plain": [
       "  0%|          | 0/168 [00:00<?, ?it/s]"
      ]
     },
     "metadata": {},
     "output_type": "display_data"
    },
    {
     "name": "stdout",
     "output_type": "stream",
     "text": [
      "epoch 10 test acc 0.5800023187785388\n"
     ]
    }
   ],
   "source": [
    "best = 0.0\n",
    "for e in range(num_epochs):\n",
    "    train_acc = 0.0\n",
    "    test_acc = 0.0\n",
    "    model.train()\n",
    "    for batch_id, (token_ids, valid_length, segment_ids, label) in tqdm(enumerate(train_dataloader), total=len(train_dataloader)):\n",
    "        optimizer.zero_grad()\n",
    "        token_ids = token_ids.long().to(device)\n",
    "        segment_ids = segment_ids.long().to(device)\n",
    "        valid_length= valid_length\n",
    "        label = label.long().to(device)\n",
    "        out = model(token_ids, valid_length, segment_ids)\n",
    "        loss = loss_fn(out, label)\n",
    "        loss.backward()\n",
    "        torch.nn.utils.clip_grad_norm_(model.parameters(), max_grad_norm)\n",
    "        optimizer.step()\n",
    "        scheduler.step()  # Update learning rate schedule\n",
    "        train_acc += calc_accuracy(out, label)\n",
    "        if batch_id % log_interval == 0:\n",
    "            print(\"epoch {} batch id {} loss {} train acc {}\".format(e+1, batch_id+1, loss.data.cpu().numpy(), train_acc / (batch_id+1)))\n",
    "    print(\"epoch {} train acc {}\".format(e+1, train_acc / (batch_id+1)))\n",
    "    model.eval()\n",
    "\n",
    "    for batch_id, (token_ids, valid_length, segment_ids, label) in tqdm(enumerate(test_dataloader), total=len(test_dataloader)):\n",
    "        token_ids = token_ids.long().to(device)\n",
    "        segment_ids = segment_ids.long().to(device)\n",
    "        valid_length= valid_length\n",
    "        label = label.long().to(device)\n",
    "        out = model(token_ids, valid_length, segment_ids)\n",
    "        test_acc += calc_accuracy(out, label)\n",
    "    print(\"epoch {} test acc {}\".format(e+1, test_acc / (batch_id+1)))\n",
    "    if best <  (test_acc / (batch_id+1)):\n",
    "        MODEL_PATH = \"../myModel\"\n",
    "        torch.save(model.state_dict(), os.path.join(MODEL_PATH, \"oui_20240327_acc.pt\"))\n",
    "        best = test_acc / (batch_id+1)"
   ]
  },
  {
   "cell_type": "code",
   "execution_count": null,
   "id": "b5035828-bb53-446c-b99e-d1898aab7fd6",
   "metadata": {},
   "outputs": [],
   "source": [
    "MODEL_PATH = \"../myModel\"\n",
    "torch.save(model.state_dict(), os.path.join(MODEL_PATH, \"oui_20240327_acc.pt\"))"
   ]
  },
  {
   "cell_type": "code",
   "execution_count": null,
   "id": "8dc88a43-2ac1-4913-91b4-1b0a3f0d5cce",
   "metadata": {},
   "outputs": [],
   "source": [
    "# https://velog.io/@fhflwhwl5/Python-KoBERT-7%EA%B0%80%EC%A7%80-%EA%B0%90%EC%A0%95%EC%9D%98-%EB%8B%A4%EC%A4%91%EA%B0%90%EC%84%B1%EB%B6%84%EB%A5%98%EB%AA%A8%EB%8D%B8-%EA%B5%AC%ED%98%84%ED%95%98%EA%B8%B0"
   ]
  },
  {
   "cell_type": "code",
   "execution_count": null,
   "id": "072537b0-c912-45c9-8ea7-b6e3ab675dd6",
   "metadata": {},
   "outputs": [],
   "source": []
  },
  {
   "cell_type": "code",
   "execution_count": null,
   "id": "ff5ac47a-d691-4b5f-8f01-3ea4cddef369",
   "metadata": {},
   "outputs": [],
   "source": []
  }
 ],
 "metadata": {
  "kernelspec": {
   "display_name": "oui3.8",
   "language": "python",
   "name": "oui3.8"
  },
  "language_info": {
   "codemirror_mode": {
    "name": "ipython",
    "version": 3
   },
   "file_extension": ".py",
   "mimetype": "text/x-python",
   "name": "python",
   "nbconvert_exporter": "python",
   "pygments_lexer": "ipython3",
   "version": "3.8.19"
  }
 },
 "nbformat": 4,
 "nbformat_minor": 5
}
