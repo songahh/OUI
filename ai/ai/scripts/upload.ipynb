{
 "cells": [
  {
   "cell_type": "code",
   "execution_count": 1,
   "metadata": {},
   "outputs": [
    {
     "data": {
      "text/plain": [
       "'{\"message\":\"OUI AI Server\"}'"
      ]
     },
     "execution_count": 1,
     "metadata": {},
     "output_type": "execute_result"
    }
   ],
   "source": [
    "import requests\n",
    "import json\n",
    "URL = 'http://localhost:8008/'\n",
    "response = requests.get(URL)\n",
    "response.status_code\n",
    "response.text"
   ]
  },
  {
   "cell_type": "code",
   "execution_count": 2,
   "metadata": {},
   "outputs": [
    {
     "name": "stdout",
     "output_type": "stream",
     "text": [
      "105 ['song_20240331_0.csv', 'song_20240331_100.csv', 'song_20240331_2500.csv', 'song_20240331_2600.csv', 'song_20240331_2700.csv', 'song_20240331_5000.csv', 'song_20240331_5100.csv', 'song_20240331_7500.csv', 'song_20240331_7600.csv', 'song_20240401_1000.csv', 'song_20240401_10000.csv', 'song_20240401_1100.csv', 'song_20240401_1200.csv', 'song_20240401_1300.csv', 'song_20240401_1400.csv', 'song_20240401_1500.csv', 'song_20240401_1600.csv', 'song_20240401_1700.csv', 'song_20240401_1800.csv', 'song_20240401_1900.csv', 'song_20240401_200.csv', 'song_20240401_2000.csv', 'song_20240401_2100.csv', 'song_20240401_2200.csv', 'song_20240401_2300.csv', 'song_20240401_2400.csv', 'song_20240401_2500.csv', 'song_20240401_2700.csv', 'song_20240401_2800.csv', 'song_20240401_2900.csv', 'song_20240401_300.csv', 'song_20240401_3000.csv', 'song_20240401_3100.csv', 'song_20240401_3200.csv', 'song_20240401_3300.csv', 'song_20240401_3400.csv', 'song_20240401_3500.csv', 'song_20240401_3600.csv', 'song_20240401_3700.csv', 'song_20240401_3800.csv', 'song_20240401_3900.csv', 'song_20240401_400.csv', 'song_20240401_4000.csv', 'song_20240401_4100.csv', 'song_20240401_4200.csv', 'song_20240401_4300.csv', 'song_20240401_4400.csv', 'song_20240401_4500.csv', 'song_20240401_4600.csv', 'song_20240401_4700.csv', 'song_20240401_4800.csv', 'song_20240401_4900.csv', 'song_20240401_500.csv', 'song_20240401_5000.csv', 'song_20240401_5200.csv', 'song_20240401_5300.csv', 'song_20240401_5400.csv', 'song_20240401_5500.csv', 'song_20240401_5600.csv', 'song_20240401_5700.csv', 'song_20240401_5800.csv', 'song_20240401_5900.csv', 'song_20240401_600.csv', 'song_20240401_6000.csv', 'song_20240401_6100.csv', 'song_20240401_6200.csv', 'song_20240401_6300.csv', 'song_20240401_6400.csv', 'song_20240401_6500.csv', 'song_20240401_6600.csv', 'song_20240401_6700.csv', 'song_20240401_6800.csv', 'song_20240401_6900.csv', 'song_20240401_700.csv', 'song_20240401_7000.csv', 'song_20240401_7100.csv', 'song_20240401_7200.csv', 'song_20240401_7300.csv', 'song_20240401_7400.csv', 'song_20240401_7500.csv', 'song_20240401_7700.csv', 'song_20240401_7800.csv', 'song_20240401_7900.csv', 'song_20240401_800.csv', 'song_20240401_8000.csv', 'song_20240401_8100.csv', 'song_20240401_8200.csv', 'song_20240401_8300.csv', 'song_20240401_8400.csv', 'song_20240401_8500.csv', 'song_20240401_8600.csv', 'song_20240401_8700.csv', 'song_20240401_8800.csv', 'song_20240401_8900.csv', 'song_20240401_900.csv', 'song_20240401_9000.csv', 'song_20240401_9100.csv', 'song_20240401_9200.csv', 'song_20240401_9300.csv', 'song_20240401_9400.csv', 'song_20240401_9500.csv', 'song_20240401_9600.csv', 'song_20240401_9700.csv', 'song_20240401_9800.csv', 'song_20240401_9900.csv']\n"
     ]
    }
   ],
   "source": [
    "DATA_PATH = \"C:/Users/SSAFY/Desktop/songah/crawling/S10P22A506/crawling/data\"\n",
    "#DATA_PATH = \"[path]\"\n",
    "import os\n",
    "\n",
    "files = os.listdir(DATA_PATH)\n",
    "csv_files = [file for file in files if file.endswith('.csv') and file.startswith(\"song_2024\")]\n",
    "print(len(csv_files), csv_files)"
   ]
  },
  {
   "cell_type": "code",
   "execution_count": 3,
   "metadata": {},
   "outputs": [],
   "source": [
    "# !pip install pandas\n",
    "import pandas as pd\n",
    "from ast import literal_eval"
   ]
  },
  {
   "cell_type": "code",
   "execution_count": 4,
   "metadata": {},
   "outputs": [],
   "source": [
    "URL = 'http://localhost:8008/song/upload'"
   ]
  },
  {
   "cell_type": "code",
   "execution_count": 5,
   "metadata": {},
   "outputs": [
    {
     "data": {
      "text/html": [
       "<div>\n",
       "<style scoped>\n",
       "    .dataframe tbody tr th:only-of-type {\n",
       "        vertical-align: middle;\n",
       "    }\n",
       "\n",
       "    .dataframe tbody tr th {\n",
       "        vertical-align: top;\n",
       "    }\n",
       "\n",
       "    .dataframe thead th {\n",
       "        text-align: right;\n",
       "    }\n",
       "</style>\n",
       "<table border=\"1\" class=\"dataframe\">\n",
       "  <thead>\n",
       "    <tr style=\"text-align: right;\">\n",
       "      <th></th>\n",
       "      <th>id</th>\n",
       "      <th>lyrics</th>\n",
       "      <th>song_name</th>\n",
       "      <th>album_id</th>\n",
       "      <th>album_name</th>\n",
       "      <th>artist_id_basket</th>\n",
       "      <th>artist_name_basket</th>\n",
       "      <th>song_gn_gnr_basket</th>\n",
       "      <th>uri</th>\n",
       "    </tr>\n",
       "  </thead>\n",
       "  <tbody>\n",
       "    <tr>\n",
       "      <th>0</th>\n",
       "      <td>34194190</td>\n",
       "      <td>마음과 말이 반대로 갈 때 온갖 좋은 말로 널 포장하고 싶은데 괜히 미워할 이유만 ...</td>\n",
       "      <td>반대로냥</td>\n",
       "      <td>10759842</td>\n",
       "      <td>반대로냥</td>\n",
       "      <td>['2299167']</td>\n",
       "      <td>['이츠허밍']</td>\n",
       "      <td>['록/메탈']</td>\n",
       "      <td>RHvWf7sD2vU</td>\n",
       "    </tr>\n",
       "  </tbody>\n",
       "</table>\n",
       "</div>"
      ],
      "text/plain": [
       "         id                                             lyrics song_name  \\\n",
       "0  34194190  마음과 말이 반대로 갈 때 온갖 좋은 말로 널 포장하고 싶은데 괜히 미워할 이유만 ...      반대로냥   \n",
       "\n",
       "   album_id album_name artist_id_basket artist_name_basket song_gn_gnr_basket  \\\n",
       "0  10759842       반대로냥      ['2299167']           ['이츠허밍']           ['록/메탈']   \n",
       "\n",
       "           uri  \n",
       "0  RHvWf7sD2vU  "
      ]
     },
     "execution_count": 5,
     "metadata": {},
     "output_type": "execute_result"
    }
   ],
   "source": [
    "path = os.path.join(DATA_PATH, csv_files[1])\n",
    "df = pd.read_csv(path)\n",
    "df.head(1)"
   ]
  },
  {
   "cell_type": "code",
   "execution_count": 7,
   "metadata": {},
   "outputs": [
    {
     "name": "stdout",
     "output_type": "stream",
     "text": [
      "\"34194190 저장완료\"\n",
      "\"37086185 저장완료\"\n",
      "\"30739853 저장완료\"\n",
      "\"33608820 저장완료\"\n",
      "\"33265558 저장완료\"\n",
      "\"33121938 저장완료\"\n",
      "\"36257220 저장완료\"\n",
      "\"32013854 저장완료\"\n",
      "\"34113005 저장완료\"\n",
      "\"3611633 저장완료\"\n",
      "\"32074818 저장완료\"\n",
      "\"33838146 저장완료\"\n",
      "\"31867979 저장완료\"\n",
      "\"4060144 저장완료\"\n",
      "\"37105994 저장완료\"\n",
      "\"8189661 저장완료\"\n",
      "\"105644 저장완료\"\n",
      "\"3055380 저장완료\"\n",
      "\"34305049 저장완료\"\n",
      "\"34074856 저장완료\"\n",
      "\"32926215 저장완료\"\n",
      "\"32977285 저장완료\"\n",
      "\"33313389 저장완료\"\n",
      "\"32642562 저장완료\"\n",
      "\"33614062 저장완료\"\n",
      "\"33608241 저장완료\"\n",
      "\"30809896 저장완료\"\n",
      "\"76331 저장완료\"\n",
      "\"34870670 저장완료\"\n",
      "\"33359314 저장완료\"\n",
      "\"8024428 저장완료\"\n",
      "\"31899302 저장완료\"\n",
      "\"31866760 저장완료\"\n",
      "\"4691253 저장완료\"\n",
      "\"31297008 저장완료\"\n",
      "\"990419 저장완료\"\n",
      "\"37034247 저장완료\"\n",
      "\"37292484 저장완료\"\n",
      "\"34737551 저장완료\"\n"
     ]
    }
   ],
   "source": [
    "for csv_file in csv_files:\n",
    "    path = os.path.join(DATA_PATH, csv_file)\n",
    "    try:\n",
    "        df = pd.read_csv(path)\n",
    "        \n",
    "        for _, row in df.iterrows():\n",
    "            data = {\n",
    "                \"id\":row[\"id\"],\n",
    "                \"lyrics\":row[\"lyrics\"],\n",
    "                \"song_name\":row[\"song_name\"],\n",
    "                \"album_id\":row[\"album_id\"],\n",
    "                \"album_name\":row[\"album_name\"],\n",
    "                \"artist_id_basket\":literal_eval(row[\"artist_id_basket\"]),\n",
    "                \"artist_name_basket\":literal_eval(row[\"artist_name_basket\"]),\n",
    "                \"song_gn_gnr_basket\":literal_eval(row[\"song_gn_gnr_basket\"]),\n",
    "            }    \n",
    "            \n",
    "            if \"uri\" in row.index:\n",
    "                data[\"uri\"] = row[\"uri\"]\n",
    "\n",
    "            response = requests.post(URL, data=json.dumps(data))\n",
    "            print(response.text)\n",
    "    except:\n",
    "        continue"
   ]
  },
  {
   "cell_type": "code",
   "execution_count": null,
   "metadata": {},
   "outputs": [],
   "source": []
  }
 ],
 "metadata": {
  "kernelspec": {
   "display_name": "Python 3",
   "language": "python",
   "name": "python3"
  },
  "language_info": {
   "codemirror_mode": {
    "name": "ipython",
    "version": 3
   },
   "file_extension": ".py",
   "mimetype": "text/x-python",
   "name": "python",
   "nbconvert_exporter": "python",
   "pygments_lexer": "ipython3",
   "version": "3.8.19"
  }
 },
 "nbformat": 4,
 "nbformat_minor": 2
}
