{
 "cells": [
  {
   "cell_type": "markdown",
   "metadata": {},
   "source": [
    "# 해야할 일\n",
    "* 1. `한국어 감정 정보가 포함된 단발성 대화 데이터셋`에서 데이터 추가\n",
    "* 2. `감정 분류를 위한 대화 음성 데이터셋`에서 데이터 추가\n",
    "* 3. 전처리\n",
    "    * 2-1. 감성대화말뭉치 `train`, `valid` 합치기\n",
    "    * 2-2. 감성대화말뭉치 세트 (`감정_대분류`, `감정_소분류`, `문장`)  형태로 변환\n",
    "    * 2-3. 감성대화말뭉치 세트 감정_대분류 `기쁨` → `기쁨`, `편안`으로 분할\n",
    "    * 2-4. 감성대화말뭉치 세트 감정_대분류 `상처` → `슬픔`으로 병합\n"
   ]
  },
  {
   "cell_type": "code",
   "execution_count": 1,
   "metadata": {},
   "outputs": [
    {
     "name": "stderr",
     "output_type": "stream",
     "text": [
      "C:\\Users\\SSAFY\\AppData\\Local\\Temp\\ipykernel_10752\\122267268.py:2: DeprecationWarning: \n",
      "Pyarrow will become a required dependency of pandas in the next major release of pandas (pandas 3.0),\n",
      "(to allow more performant data types, such as the Arrow string type, and better interoperability with other libraries)\n",
      "but was not found to be installed on your system.\n",
      "If this would cause problems for you,\n",
      "please provide us feedback at https://github.com/pandas-dev/pandas/issues/54466\n",
      "        \n",
      "  import pandas as pd\n"
     ]
    }
   ],
   "source": [
    "import numpy as np\n",
    "import pandas as pd\n",
    "import os\n",
    "\n",
    "# import matplotlib.pyplot as plt\n",
    "# plt.rcParams['font.family'] ='Malgun Gothic'\n",
    "# plt.rcParams['axes.unicode_minus'] =False"
   ]
  },
  {
   "cell_type": "code",
   "execution_count": 2,
   "metadata": {},
   "outputs": [
    {
     "name": "stderr",
     "output_type": "stream",
     "text": [
      "<>:4: SyntaxWarning: invalid escape sequence '\\d'\n",
      "<>:4: SyntaxWarning: invalid escape sequence '\\d'\n",
      "C:\\Users\\SSAFY\\AppData\\Local\\Temp\\ipykernel_10752\\1282234270.py:4: SyntaxWarning: invalid escape sequence '\\d'\n",
      "  TRAIN_NEUTRAL_DATA_PATH = \"D:\\dataset\\감정 분류를 위한 대화 음성 데이터셋\"\n"
     ]
    }
   ],
   "source": [
    "TRAIN_RAW_DATA_PATH = \"D:/dataset/018.감성대화/Training_221115_add/원천데이터\"\n",
    "VALID_RAW_DATA_PATH = \"D:/dataset/018.감성대화/Validation_221115_add/원천데이터\"\n",
    "TRAIN_ADD_DATA_PATH = \"D:/dataset/한국어 감정 정보가 포함된 단발성 대화 데이터셋\"\n",
    "TRAIN_NEUTRAL_DATA_PATH = \"D:\\dataset\\감정 분류를 위한 대화 음성 데이터셋\""
   ]
  },
  {
   "cell_type": "markdown",
   "metadata": {},
   "source": [
    "# 1. 데이터 추가"
   ]
  },
  {
   "cell_type": "markdown",
   "metadata": {},
   "source": [
    "### 학습 데이터, 검증 데이터 합치기"
   ]
  },
  {
   "cell_type": "code",
   "execution_count": 3,
   "metadata": {},
   "outputs": [],
   "source": [
    "train_raw_df = pd.read_excel(os.path.join(TRAIN_RAW_DATA_PATH, \"감성대화말뭉치(최종데이터)_Training.xlsx\"))\n",
    "valid_raw_df = pd.read_excel(os.path.join(VALID_RAW_DATA_PATH, \"감성대화말뭉치(최종데이터)_Validation.xlsx\"))"
   ]
  },
  {
   "cell_type": "code",
   "execution_count": 4,
   "metadata": {},
   "outputs": [
    {
     "name": "stdout",
     "output_type": "stream",
     "text": [
      "<class 'pandas.core.frame.DataFrame'>\n",
      "Index: 58271 entries, 0 to 6640\n",
      "Data columns (total 13 columns):\n",
      " #   Column      Non-Null Count  Dtype \n",
      "---  ------      --------------  ----- \n",
      " 0   Unnamed: 0  58271 non-null  int64 \n",
      " 1   연령          58271 non-null  object\n",
      " 2   성별          58271 non-null  object\n",
      " 3   상황키워드       58271 non-null  object\n",
      " 4   신체질환        58271 non-null  object\n",
      " 5   감정_대분류      58271 non-null  object\n",
      " 6   감정_소분류      58271 non-null  object\n",
      " 7   사람문장1       58271 non-null  object\n",
      " 8   시스템문장1      58271 non-null  object\n",
      " 9   사람문장2       58271 non-null  object\n",
      " 10  시스템문장2      58271 non-null  object\n",
      " 11  사람문장3       47381 non-null  object\n",
      " 12  시스템문장3      47381 non-null  object\n",
      "dtypes: int64(1), object(12)\n",
      "memory usage: 6.2+ MB\n"
     ]
    }
   ],
   "source": [
    "all_raw_df = pd.concat([train_raw_df, valid_raw_df], axis=0)\n",
    "all_raw_df.info()"
   ]
  },
  {
   "cell_type": "markdown",
   "metadata": {},
   "source": [
    "## `한국어 감정 정보가 포함된 단발성 대화 데이터셋`"
   ]
  },
  {
   "cell_type": "markdown",
   "metadata": {},
   "source": [
    "### 추가 데이터 정제"
   ]
  },
  {
   "cell_type": "code",
   "execution_count": 5,
   "metadata": {},
   "outputs": [
    {
     "name": "stdout",
     "output_type": "stream",
     "text": [
      "<class 'pandas.core.frame.DataFrame'>\n",
      "RangeIndex: 38594 entries, 0 to 38593\n",
      "Data columns (total 7 columns):\n",
      " #   Column      Non-Null Count  Dtype  \n",
      "---  ------      --------------  -----  \n",
      " 0   Sentence    38594 non-null  object \n",
      " 1   Emotion     38594 non-null  object \n",
      " 2   Unnamed: 2  0 non-null      float64\n",
      " 3   Unnamed: 3  0 non-null      float64\n",
      " 4   Unnamed: 4  0 non-null      float64\n",
      " 5   공포          7 non-null      object \n",
      " 6   5468        7 non-null      float64\n",
      "dtypes: float64(4), object(3)\n",
      "memory usage: 2.1+ MB\n"
     ]
    }
   ],
   "source": [
    "add_raw_df = pd.read_excel(os.path.join(TRAIN_ADD_DATA_PATH, \"한국어_단발성_대화_데이터셋.xlsx\"))\n",
    "add_raw_df.info()"
   ]
  },
  {
   "cell_type": "code",
   "execution_count": 6,
   "metadata": {},
   "outputs": [
    {
     "name": "stderr",
     "output_type": "stream",
     "text": [
      "C:\\Users\\SSAFY\\AppData\\Local\\Temp\\ipykernel_10752\\3651700598.py:3: SettingWithCopyWarning: \n",
      "A value is trying to be set on a copy of a slice from a DataFrame.\n",
      "Try using .loc[row_indexer,col_indexer] = value instead\n",
      "\n",
      "See the caveats in the documentation: https://pandas.pydata.org/pandas-docs/stable/user_guide/indexing.html#returning-a-view-versus-a-copy\n",
      "  add_raw_df_joy[\"감정_대분류\"] = \"기쁨\"\n",
      "C:\\Users\\SSAFY\\AppData\\Local\\Temp\\ipykernel_10752\\3651700598.py:5: SettingWithCopyWarning: \n",
      "A value is trying to be set on a copy of a slice from a DataFrame\n",
      "\n",
      "See the caveats in the documentation: https://pandas.pydata.org/pandas-docs/stable/user_guide/indexing.html#returning-a-view-versus-a-copy\n",
      "  add_raw_df_joy.rename(columns = {\"Sentence\":\"사람문장1\", \"Emotion\":\"감정_소분류\"}, inplace=True)\n"
     ]
    },
    {
     "data": {
      "text/html": [
       "<div>\n",
       "<style scoped>\n",
       "    .dataframe tbody tr th:only-of-type {\n",
       "        vertical-align: middle;\n",
       "    }\n",
       "\n",
       "    .dataframe tbody tr th {\n",
       "        vertical-align: top;\n",
       "    }\n",
       "\n",
       "    .dataframe thead th {\n",
       "        text-align: right;\n",
       "    }\n",
       "</style>\n",
       "<table border=\"1\" class=\"dataframe\">\n",
       "  <thead>\n",
       "    <tr style=\"text-align: right;\">\n",
       "      <th></th>\n",
       "      <th>사람문장1</th>\n",
       "      <th>감정_소분류</th>\n",
       "      <th>감정_대분류</th>\n",
       "    </tr>\n",
       "  </thead>\n",
       "  <tbody>\n",
       "    <tr>\n",
       "      <th>0</th>\n",
       "      <td>유재석 오라버니 해피투게더 봤어요</td>\n",
       "      <td>행복</td>\n",
       "      <td>기쁨</td>\n",
       "    </tr>\n",
       "    <tr>\n",
       "      <th>1</th>\n",
       "      <td>우리모두 준혁이성과 LG선수들이 선전할수 있게 기를 넣어줍시다.</td>\n",
       "      <td>행복</td>\n",
       "      <td>기쁨</td>\n",
       "    </tr>\n",
       "    <tr>\n",
       "      <th>2</th>\n",
       "      <td>웃긴거 알죠?~ㅋㅋㅇ ㅏ~</td>\n",
       "      <td>행복</td>\n",
       "      <td>기쁨</td>\n",
       "    </tr>\n",
       "  </tbody>\n",
       "</table>\n",
       "</div>"
      ],
      "text/plain": [
       "                                 사람문장1 감정_소분류 감정_대분류\n",
       "0                   유재석 오라버니 해피투게더 봤어요     행복     기쁨\n",
       "1  우리모두 준혁이성과 LG선수들이 선전할수 있게 기를 넣어줍시다.     행복     기쁨\n",
       "2                       웃긴거 알죠?~ㅋㅋㅇ ㅏ~     행복     기쁨"
      ]
     },
     "execution_count": 6,
     "metadata": {},
     "output_type": "execute_result"
    }
   ],
   "source": [
    "add_raw_df = add_raw_df[[\"Sentence\", \"Emotion\"]]\n",
    "add_raw_df_joy = add_raw_df[add_raw_df[\"Emotion\"]==\"행복\"]\n",
    "add_raw_df_joy[\"감정_대분류\"] = \"기쁨\"\n",
    "add_raw_df_joy.loc[:,\"Emotion\"] = \"행복\"\n",
    "add_raw_df_joy.rename(columns = {\"Sentence\":\"사람문장1\", \"Emotion\":\"감정_소분류\"}, inplace=True)\n",
    "add_raw_df_joy.reset_index(drop=True, inplace=True)\n",
    "add_raw_df_joy.head(3)"
   ]
  },
  {
   "cell_type": "code",
   "execution_count": 7,
   "metadata": {},
   "outputs": [
    {
     "name": "stderr",
     "output_type": "stream",
     "text": [
      "C:\\Users\\SSAFY\\AppData\\Local\\Temp\\ipykernel_10752\\426102366.py:3: SettingWithCopyWarning: \n",
      "A value is trying to be set on a copy of a slice from a DataFrame.\n",
      "Try using .loc[row_indexer,col_indexer] = value instead\n",
      "\n",
      "See the caveats in the documentation: https://pandas.pydata.org/pandas-docs/stable/user_guide/indexing.html#returning-a-view-versus-a-copy\n",
      "  add_raw_df_neutral[\"감정_대분류\"] = \"중립\"\n",
      "C:\\Users\\SSAFY\\AppData\\Local\\Temp\\ipykernel_10752\\426102366.py:5: SettingWithCopyWarning: \n",
      "A value is trying to be set on a copy of a slice from a DataFrame\n",
      "\n",
      "See the caveats in the documentation: https://pandas.pydata.org/pandas-docs/stable/user_guide/indexing.html#returning-a-view-versus-a-copy\n",
      "  add_raw_df_neutral.rename(columns = {\"Sentence\":\"사람문장1\", \"Emotion\":\"감정_소분류\"}, inplace=True)\n"
     ]
    },
    {
     "data": {
      "text/html": [
       "<div>\n",
       "<style scoped>\n",
       "    .dataframe tbody tr th:only-of-type {\n",
       "        vertical-align: middle;\n",
       "    }\n",
       "\n",
       "    .dataframe tbody tr th {\n",
       "        vertical-align: top;\n",
       "    }\n",
       "\n",
       "    .dataframe thead th {\n",
       "        text-align: right;\n",
       "    }\n",
       "</style>\n",
       "<table border=\"1\" class=\"dataframe\">\n",
       "  <thead>\n",
       "    <tr style=\"text-align: right;\">\n",
       "      <th></th>\n",
       "      <th>사람문장1</th>\n",
       "      <th>감정_소분류</th>\n",
       "      <th>감정_대분류</th>\n",
       "    </tr>\n",
       "  </thead>\n",
       "  <tbody>\n",
       "    <tr>\n",
       "      <th>0</th>\n",
       "      <td>소량은 먹어도 인체에 해롭지 않고요.</td>\n",
       "      <td>중립</td>\n",
       "      <td>중립</td>\n",
       "    </tr>\n",
       "    <tr>\n",
       "      <th>1</th>\n",
       "      <td>그래도 청문회 나온 놈들보다는 정직한 대답 한것 같다</td>\n",
       "      <td>중립</td>\n",
       "      <td>중립</td>\n",
       "    </tr>\n",
       "    <tr>\n",
       "      <th>2</th>\n",
       "      <td>이런일 터지기전에 이미 계약 했을까?</td>\n",
       "      <td>중립</td>\n",
       "      <td>중립</td>\n",
       "    </tr>\n",
       "  </tbody>\n",
       "</table>\n",
       "</div>"
      ],
      "text/plain": [
       "                           사람문장1 감정_소분류 감정_대분류\n",
       "0           소량은 먹어도 인체에 해롭지 않고요.     중립     중립\n",
       "1  그래도 청문회 나온 놈들보다는 정직한 대답 한것 같다     중립     중립\n",
       "2           이런일 터지기전에 이미 계약 했을까?     중립     중립"
      ]
     },
     "execution_count": 7,
     "metadata": {},
     "output_type": "execute_result"
    }
   ],
   "source": [
    "add_raw_df = add_raw_df[[\"Sentence\", \"Emotion\"]]\n",
    "add_raw_df_neutral = add_raw_df[add_raw_df[\"Emotion\"]==\"중립\"]\n",
    "add_raw_df_neutral[\"감정_대분류\"] = \"중립\"\n",
    "add_raw_df_neutral.loc[:,\"Emotion\"] = \"중립\"\n",
    "add_raw_df_neutral.rename(columns = {\"Sentence\":\"사람문장1\", \"Emotion\":\"감정_소분류\"}, inplace=True)\n",
    "add_raw_df_neutral.reset_index(drop=True, inplace=True)\n",
    "add_raw_df_neutral.head(3)"
   ]
  },
  {
   "cell_type": "markdown",
   "metadata": {},
   "source": [
    "### 추가 데이터 합치기"
   ]
  },
  {
   "cell_type": "code",
   "execution_count": 8,
   "metadata": {},
   "outputs": [
    {
     "name": "stdout",
     "output_type": "stream",
     "text": [
      "<class 'pandas.core.frame.DataFrame'>\n",
      "Index: 69138 entries, 0 to 4829\n",
      "Data columns (total 13 columns):\n",
      " #   Column      Non-Null Count  Dtype  \n",
      "---  ------      --------------  -----  \n",
      " 0   Unnamed: 0  58271 non-null  float64\n",
      " 1   연령          58271 non-null  object \n",
      " 2   성별          58271 non-null  object \n",
      " 3   상황키워드       58271 non-null  object \n",
      " 4   신체질환        58271 non-null  object \n",
      " 5   감정_대분류      69138 non-null  object \n",
      " 6   감정_소분류      69138 non-null  object \n",
      " 7   사람문장1       69138 non-null  object \n",
      " 8   시스템문장1      58271 non-null  object \n",
      " 9   사람문장2       58271 non-null  object \n",
      " 10  시스템문장2      58271 non-null  object \n",
      " 11  사람문장3       47381 non-null  object \n",
      " 12  시스템문장3      47381 non-null  object \n",
      "dtypes: float64(1), object(12)\n",
      "memory usage: 7.4+ MB\n"
     ]
    }
   ],
   "source": [
    "all_raw_df_added = pd.concat([all_raw_df, add_raw_df_joy], axis=0)\n",
    "all_raw_df_added = pd.concat([all_raw_df_added, add_raw_df_neutral], axis=0)\n",
    "all_raw_df_added.info()"
   ]
  },
  {
   "cell_type": "markdown",
   "metadata": {},
   "source": [
    "## `감정 분류를 위한 대화 음성 데이터셋`"
   ]
  },
  {
   "cell_type": "code",
   "execution_count": 9,
   "metadata": {},
   "outputs": [
    {
     "name": "stderr",
     "output_type": "stream",
     "text": [
      "C:\\Users\\SSAFY\\AppData\\Local\\Temp\\ipykernel_10752\\3094360365.py:7: SettingWithCopyWarning: \n",
      "A value is trying to be set on a copy of a slice from a DataFrame.\n",
      "Try using .loc[row_indexer,col_indexer] = value instead\n",
      "\n",
      "See the caveats in the documentation: https://pandas.pydata.org/pandas-docs/stable/user_guide/indexing.html#returning-a-view-versus-a-copy\n",
      "  add_raw_df_neutral[\"감정_대분류\"] = \"중립\"\n",
      "C:\\Users\\SSAFY\\AppData\\Local\\Temp\\ipykernel_10752\\3094360365.py:9: SettingWithCopyWarning: \n",
      "A value is trying to be set on a copy of a slice from a DataFrame\n",
      "\n",
      "See the caveats in the documentation: https://pandas.pydata.org/pandas-docs/stable/user_guide/indexing.html#returning-a-view-versus-a-copy\n",
      "  add_raw_df_neutral.rename(columns = {\"발화문\":\"사람문장1\", \"상황\":\"감정_소분류\"}, inplace=True)\n",
      "C:\\Users\\SSAFY\\AppData\\Local\\Temp\\ipykernel_10752\\3094360365.py:7: SettingWithCopyWarning: \n",
      "A value is trying to be set on a copy of a slice from a DataFrame.\n",
      "Try using .loc[row_indexer,col_indexer] = value instead\n",
      "\n",
      "See the caveats in the documentation: https://pandas.pydata.org/pandas-docs/stable/user_guide/indexing.html#returning-a-view-versus-a-copy\n",
      "  add_raw_df_neutral[\"감정_대분류\"] = \"중립\"\n",
      "C:\\Users\\SSAFY\\AppData\\Local\\Temp\\ipykernel_10752\\3094360365.py:9: SettingWithCopyWarning: \n",
      "A value is trying to be set on a copy of a slice from a DataFrame\n",
      "\n",
      "See the caveats in the documentation: https://pandas.pydata.org/pandas-docs/stable/user_guide/indexing.html#returning-a-view-versus-a-copy\n",
      "  add_raw_df_neutral.rename(columns = {\"발화문\":\"사람문장1\", \"상황\":\"감정_소분류\"}, inplace=True)\n"
     ]
    },
    {
     "name": "stdout",
     "output_type": "stream",
     "text": [
      "<class 'pandas.core.frame.DataFrame'>\n",
      "Index: 72400 entries, 0 to 19359\n",
      "Data columns (total 13 columns):\n",
      " #   Column      Non-Null Count  Dtype  \n",
      "---  ------      --------------  -----  \n",
      " 0   Unnamed: 0  58271 non-null  float64\n",
      " 1   연령          58271 non-null  object \n",
      " 2   성별          58271 non-null  object \n",
      " 3   상황키워드       58271 non-null  object \n",
      " 4   신체질환        58271 non-null  object \n",
      " 5   감정_대분류      72400 non-null  object \n",
      " 6   감정_소분류      72400 non-null  object \n",
      " 7   사람문장1       72400 non-null  object \n",
      " 8   시스템문장1      58271 non-null  object \n",
      " 9   사람문장2       58271 non-null  object \n",
      " 10  시스템문장2      58271 non-null  object \n",
      " 11  사람문장3       47381 non-null  object \n",
      " 12  시스템문장3      47381 non-null  object \n",
      "dtypes: float64(1), object(12)\n",
      "memory usage: 7.7+ MB\n"
     ]
    },
    {
     "name": "stderr",
     "output_type": "stream",
     "text": [
      "C:\\Users\\SSAFY\\AppData\\Local\\Temp\\ipykernel_10752\\3094360365.py:7: SettingWithCopyWarning: \n",
      "A value is trying to be set on a copy of a slice from a DataFrame.\n",
      "Try using .loc[row_indexer,col_indexer] = value instead\n",
      "\n",
      "See the caveats in the documentation: https://pandas.pydata.org/pandas-docs/stable/user_guide/indexing.html#returning-a-view-versus-a-copy\n",
      "  add_raw_df_neutral[\"감정_대분류\"] = \"중립\"\n",
      "C:\\Users\\SSAFY\\AppData\\Local\\Temp\\ipykernel_10752\\3094360365.py:9: SettingWithCopyWarning: \n",
      "A value is trying to be set on a copy of a slice from a DataFrame\n",
      "\n",
      "See the caveats in the documentation: https://pandas.pydata.org/pandas-docs/stable/user_guide/indexing.html#returning-a-view-versus-a-copy\n",
      "  add_raw_df_neutral.rename(columns = {\"발화문\":\"사람문장1\", \"상황\":\"감정_소분류\"}, inplace=True)\n"
     ]
    }
   ],
   "source": [
    "csv_list = [\"4차년도.csv\", \"5차년도.csv\", \"5차년도_2차.csv\"]\n",
    "\n",
    "for csv in csv_list:\n",
    "    add_raw_df = pd.read_csv(os.path.join(TRAIN_NEUTRAL_DATA_PATH, csv), encoding=\"cp949\")\n",
    "    add_raw_df = add_raw_df[[\"발화문\", \"상황\"]]\n",
    "    add_raw_df_neutral = add_raw_df[add_raw_df[\"상황\"]==\"neutral\"]\n",
    "    add_raw_df_neutral[\"감정_대분류\"] = \"중립\"\n",
    "    add_raw_df_neutral.loc[:,\"상황\"] = \"중립\"\n",
    "    add_raw_df_neutral.rename(columns = {\"발화문\":\"사람문장1\", \"상황\":\"감정_소분류\"}, inplace=True)\n",
    "    all_raw_df_added = pd.concat([all_raw_df_added, add_raw_df_neutral], axis=0)\n",
    "all_raw_df_added.info()"
   ]
  },
  {
   "cell_type": "markdown",
   "metadata": {},
   "source": [
    "# 2. 데이터 정제"
   ]
  },
  {
   "cell_type": "markdown",
   "metadata": {},
   "source": [
    "### 기쁨 분할\n",
    "* before: ['감사하는', '기쁨', '느긋', '만족스러운', '신뢰하는', '신이 난', '안도', '자신하는', '편안한', '흥분']\n",
    "* after\n",
    "    * 기쁨) 기쁨 신이난 흥분 행복\n",
    "    * 편안) 감사하는 느긋 만족스러운 신뢰하는 안도 편안한 자신하는"
   ]
  },
  {
   "cell_type": "code",
   "execution_count": 10,
   "metadata": {},
   "outputs": [],
   "source": [
    "targets = set([\"감사하는\", \"느긋\", \"만족스러운\", \"신뢰하는\", \"안도\", \"편안한\", \"자신하는\"])\n",
    "all_raw_df_added.loc[all_raw_df_added[\"감정_소분류\"].isin(targets),\"감정_대분류\"]=\"느긋\""
   ]
  },
  {
   "cell_type": "markdown",
   "metadata": {},
   "source": [
    "### 상처 병합"
   ]
  },
  {
   "cell_type": "code",
   "execution_count": 11,
   "metadata": {},
   "outputs": [],
   "source": [
    "all_raw_df_added.loc[all_raw_df_added[\"감정_대분류\"]==\"상처\",\"감정_대분류\"]=\"슬픔\""
   ]
  },
  {
   "cell_type": "markdown",
   "metadata": {},
   "source": [
    "### 필요한 컬럼만 남기기"
   ]
  },
  {
   "cell_type": "code",
   "execution_count": 12,
   "metadata": {},
   "outputs": [
    {
     "name": "stdout",
     "output_type": "stream",
     "text": [
      "<class 'pandas.core.frame.DataFrame'>\n",
      "Index: 72400 entries, 0 to 19359\n",
      "Data columns (total 4 columns):\n",
      " #   Column  Non-Null Count  Dtype \n",
      "---  ------  --------------  ----- \n",
      " 0   감정_대분류  72400 non-null  object\n",
      " 1   감정_소분류  72400 non-null  object\n",
      " 2   사람문장1   72400 non-null  object\n",
      " 3   사람문장2   58271 non-null  object\n",
      "dtypes: object(4)\n",
      "memory usage: 2.8+ MB\n"
     ]
    }
   ],
   "source": [
    "final_df = all_raw_df_added[[\"감정_대분류\", \"감정_소분류\", \"사람문장1\", \"사람문장2\"]]\n",
    "final_df.info()"
   ]
  },
  {
   "cell_type": "code",
   "execution_count": 13,
   "metadata": {},
   "outputs": [
    {
     "name": "stderr",
     "output_type": "stream",
     "text": [
      "C:\\Users\\SSAFY\\AppData\\Local\\Temp\\ipykernel_10752\\3299588011.py:3: SettingWithCopyWarning: \n",
      "A value is trying to be set on a copy of a slice from a DataFrame\n",
      "\n",
      "See the caveats in the documentation: https://pandas.pydata.org/pandas-docs/stable/user_guide/indexing.html#returning-a-view-versus-a-copy\n",
      "  sentence2_df.rename(columns={\"사람문장2\":\"사람문장1\"}, inplace=True)\n"
     ]
    },
    {
     "name": "stdout",
     "output_type": "stream",
     "text": [
      "<class 'pandas.core.frame.DataFrame'>\n",
      "Index: 130671 entries, 0 to 130670\n",
      "Data columns (total 3 columns):\n",
      " #   Column    Non-Null Count   Dtype \n",
      "---  ------    --------------   ----- \n",
      " 0   cat1      130671 non-null  object\n",
      " 1   cat2      130671 non-null  object\n",
      " 2   sentence  130671 non-null  object\n",
      "dtypes: object(3)\n",
      "memory usage: 4.0+ MB\n"
     ]
    }
   ],
   "source": [
    "sentence1_df = final_df[[\"감정_대분류\", \"감정_소분류\", \"사람문장1\"]]\n",
    "sentence2_df = final_df[[\"감정_대분류\", \"감정_소분류\", \"사람문장2\"]]\n",
    "sentence2_df.rename(columns={\"사람문장2\":\"사람문장1\"}, inplace=True)\n",
    "\n",
    "final_df_added = pd.concat([sentence1_df, sentence2_df], ignore_index=True)\n",
    "final_df_added.rename(columns={\"감정_대분류\":\"cat1\", \"감정_소분류\":\"cat2\", \"사람문장1\":\"sentence\"}, inplace=True)\n",
    "final_df_added = final_df_added[final_df_added[\"sentence\"].notna()]\n",
    "final_df_added.info()"
   ]
  },
  {
   "cell_type": "code",
   "execution_count": 14,
   "metadata": {},
   "outputs": [],
   "source": [
    "final_df_added.to_csv(\"../data/sentimental_analysis.csv\", index=False)"
   ]
  }
 ],
 "metadata": {
  "kernelspec": {
   "display_name": "Python 3",
   "language": "python",
   "name": "python3"
  },
  "language_info": {
   "codemirror_mode": {
    "name": "ipython",
    "version": 3
   },
   "file_extension": ".py",
   "mimetype": "text/x-python",
   "name": "python",
   "nbconvert_exporter": "python",
   "pygments_lexer": "ipython3",
   "version": "3.12.1"
  }
 },
 "nbformat": 4,
 "nbformat_minor": 2
}
