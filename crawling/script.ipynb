{
 "cells": [
  {
   "cell_type": "code",
   "execution_count": 1,
   "metadata": {},
   "outputs": [],
   "source": [
    "from datetime import datetime, timedelta\n",
    "import time\n",
    "import pandas as pd"
   ]
  },
  {
   "cell_type": "markdown",
   "metadata": {},
   "source": [
    "# 노래 크롤링"
   ]
  },
  {
   "cell_type": "markdown",
   "metadata": {},
   "source": [
    "* song_meta\n",
    "    * `issue_date`: 발행 날짜\n",
    "    * `album_name`: 앨범 이름\n",
    "    * `album_id`: 앨범 id\n",
    "    * `artist_id_basket`: 아티스트 id리스트\n",
    "    * `song_name`: 노래 이름\n",
    "    * `song_gn_gnr_basket`: 장르 코드 리스트\n",
    "    * `artist_name_basket`: 아티스트 이름 리스트\n",
    "    * `id`: 아이디"
   ]
  },
  {
   "cell_type": "code",
   "execution_count": 2,
   "metadata": {},
   "outputs": [],
   "source": [
    "from melon_plylist_crawling import PlylistCrawler"
   ]
  },
  {
   "cell_type": "code",
   "execution_count": 3,
   "metadata": {},
   "outputs": [],
   "source": [
    "pc = PlylistCrawler(id_path=\"./data/plylist_id.csv\",\n",
    "                    plylst_path=\"./data/plylist.csv\",\n",
    "                    genre_path=\"./data/genre_cat1.csv\",\n",
    "                    song_id_path=\"./data/song_id.csv\")"
   ]
  },
  {
   "cell_type": "code",
   "execution_count": 4,
   "metadata": {},
   "outputs": [
    {
     "name": "stderr",
     "output_type": "stream",
     "text": [
      "  0%|          | 0/2 [00:00<?, ?it/s]"
     ]
    },
    {
     "name": "stderr",
     "output_type": "stream",
     "text": [
      " 50%|█████     | 1/2 [00:03<00:03,  3.47s/it]"
     ]
    },
    {
     "name": "stdout",
     "output_type": "stream",
     "text": [
      "./data/song_20240331_0.csv 저장완료\n",
      "반대로냥\n",
      "artist_name: 이츠허밍\n",
      "가사 마음과 말이 반대로 갈 때\n",
      "온갖 좋은 말로 널 포장하고 싶은데\n",
      "괜히 미워할 이유만 찾을 때\n",
      "널 보면 반가운데 나도 모르게\n",
      "툭툭 내뱉는 못난 말투\n",
      "나도 나를 잘 모르겠어\n",
      "아 괜한 말은 잘하잖아\n",
      "아 그런 말론 알 수가 없잖아\n",
      "어느새 일상이 돼버린 복잡함도\n",
      "아무렇지 않은 습관인 것처럼\n",
      "내겐 익숙해 그걸 너무 잘 아는데\n",
      "이상하게도 네 앞에 서면\n",
      "진심보다는 서툰 말이 앞서나 봐\n",
      "도대체 왜 이러는 건데\n",
      "이상하게도 네 앞에 서면\n",
      "진심과는 또 다른 말들이 자꾸\n",
      "반대로만 말하게 된단 말야\n",
      "마음과 말이 반대로 갈 때\n",
      "온갖 좋은 말로 널 포장하고 싶은데\n",
      "괜히 미워할 이유만 찾을 때\n",
      "사실 날 보면 반가운데 너도 모르게\n",
      "툭툭 때리곤 도망가는\n",
      "도망가 버리는\n",
      "그 마음을 잘 모르겠어\n",
      "아 제멋대로 잘하잖아\n",
      "아 그것 말곤 알 수가 없잖아\n",
      "어느새 일상이 돼버린 곤란함도\n",
      "아무렇지 않은 습관인 것처럼\n",
      "이상하게도 네 앞에 서면\n",
      "진심보다는 서툰 말이 앞서나 봐\n",
      "이상하게도 네 앞에 서면\n",
      "진심과는 또 다른 말들이 자꾸\n",
      "전부 반대로만\n",
      "이상하게도 널 보고 있으면\n",
      "왜 이러는지 조금은 알 것 같아\n",
      "우린 도대체 왜 이러는 건데\n",
      "그래 이상하게도 네 앞에 서면\n",
      "진심과는 또 다른 말들이 자꾸\n",
      "반대로만 말하게 된단 말야\n"
     ]
    },
    {
     "name": "stderr",
     "output_type": "stream",
     "text": [
      "100%|██████████| 2/2 [00:13<00:00,  6.65s/it]\n"
     ]
    },
    {
     "name": "stdout",
     "output_type": "stream",
     "text": [
      "크롤링 종료\n",
      "error_id: {31489121}\n"
     ]
    },
    {
     "ename": "TypeError",
     "evalue": "PlylistCrawler.__export_song_to_csv() missing 1 required positional argument: 'idx'",
     "output_type": "error",
     "traceback": [
      "\u001b[1;31m---------------------------------------------------------------------------\u001b[0m",
      "\u001b[1;31mTypeError\u001b[0m                                 Traceback (most recent call last)",
      "Cell \u001b[1;32mIn[4], line 1\u001b[0m\n\u001b[1;32m----> 1\u001b[0m \u001b[43mpc\u001b[49m\u001b[38;5;241;43m.\u001b[39;49m\u001b[43mdo_crawling_song\u001b[49m\u001b[43m(\u001b[49m\u001b[38;5;241;43m0\u001b[39;49m\u001b[43m,\u001b[49m\u001b[43m \u001b[49m\u001b[38;5;241;43m2\u001b[39;49m\u001b[43m)\u001b[49m\n",
      "File \u001b[1;32mc:\\Users\\SSAFY\\Desktop\\songah\\crawling\\S10P22A506\\crawling\\melon_plylist_crawling.py:318\u001b[0m, in \u001b[0;36mPlylistCrawler.do_crawling_song\u001b[1;34m(self, start_idx, end_idx)\u001b[0m\n\u001b[0;32m    316\u001b[0m \u001b[38;5;28mprint\u001b[39m(\u001b[38;5;124m\"\u001b[39m\u001b[38;5;124m크롤링 종료\u001b[39m\u001b[38;5;124m\"\u001b[39m)\n\u001b[0;32m    317\u001b[0m \u001b[38;5;28mprint\u001b[39m(\u001b[38;5;124mf\u001b[39m\u001b[38;5;124m\"\u001b[39m\u001b[38;5;124merror_id: \u001b[39m\u001b[38;5;132;01m{\u001b[39;00merror_id\u001b[38;5;132;01m}\u001b[39;00m\u001b[38;5;124m\"\u001b[39m)\n\u001b[1;32m--> 318\u001b[0m \u001b[38;5;28;43mself\u001b[39;49m\u001b[38;5;241;43m.\u001b[39;49m\u001b[43m__export_song_to_csv\u001b[49m\u001b[43m(\u001b[49m\u001b[43msong_name\u001b[49m\u001b[43m,\u001b[49m\u001b[43m \u001b[49m\u001b[43martist_id_basket\u001b[49m\u001b[43m,\u001b[49m\u001b[43m \u001b[49m\u001b[43martist_name_basket\u001b[49m\u001b[43m,\u001b[49m\u001b[43m \u001b[49m\u001b[43malbum_id\u001b[49m\u001b[43m,\u001b[49m\u001b[43m \u001b[49m\u001b[43malbum_name\u001b[49m\u001b[43m,\u001b[49m\u001b[43m \u001b[49m\u001b[43missue_date\u001b[49m\u001b[43m,\u001b[49m\u001b[43m \u001b[49m\u001b[43msong_gn_gnr_basket\u001b[49m\u001b[43m,\u001b[49m\u001b[43m \u001b[49m\u001b[38;5;124;43m\"\u001b[39;49m\u001b[38;5;124;43mend\u001b[39;49m\u001b[38;5;124;43m\"\u001b[39;49m\u001b[43m)\u001b[49m\n",
      "\u001b[1;31mTypeError\u001b[0m: PlylistCrawler.__export_song_to_csv() missing 1 required positional argument: 'idx'"
     ]
    }
   ],
   "source": [
    "pc.do_crawling_song(0, 2)"
   ]
  },
  {
   "cell_type": "markdown",
   "metadata": {},
   "source": [
    "# 플레이리스트 크롤링"
   ]
  },
  {
   "cell_type": "code",
   "execution_count": null,
   "metadata": {},
   "outputs": [],
   "source": [
    "#from melon_plylist_crawling import PlylistCrawler"
   ]
  },
  {
   "cell_type": "code",
   "execution_count": null,
   "metadata": {},
   "outputs": [],
   "source": [
    "#pc = PlylistCrawler(\"../data/plylist_id.csv\", \"../data/plylist.csv\")"
   ]
  },
  {
   "cell_type": "markdown",
   "metadata": {},
   "source": [
    "* 플레이리스트 id 얻기\n",
    "    * `div class = \"service_list_play d_djcol_list\"`\n",
    "        * `ul` > `li` > `div class=\"thumb\"` 클릭 이동\n",
    "        * `ul` > `li` > `div class=\"entry\"` > `div class=\"meta\"` > `button class=\"button_etc like btn_djplylst_like\" data-djcol-no=플레이리스트 id` "
   ]
  },
  {
   "cell_type": "code",
   "execution_count": null,
   "metadata": {},
   "outputs": [],
   "source": [
    "#pc.do_crawling_ply_id()"
   ]
  },
  {
   "cell_type": "markdown",
   "metadata": {},
   "source": [
    "* 플레이리스트 데이터 얻기\n",
    "    * `id`: 플레이리스트 id\n",
    "    * `plylist_title`: 플레이리스트 제목\n",
    "        * `<div class=\"ellipsis song_name\"> 음악이라도 들으면서, 같이 산책할래?</div>`\n",
    "    * `tags`: 태그 리스트\n",
    "        * `<div class=\"tag_list type03\"><a href=\"javascript:MELON.WEBSVC.POC.link.goDjTagHub('24');\" class=\"tag_item\"><span>#봄</span></a></div>`\n",
    "    * `songs`: 노래 리스트\n",
    "        * `https://www.melon.com/mymusic/dj/mymusicdjplaylistview_inform.htm?plylstSeq=534972919#params%5BplylstSeq%5D=534972919&po=pageObj&startIndex=51`\n",
    "        * `<button type=\"button\" class=\"button_etc like\" title=\"밤양갱 좋아요\" data-song-no=\"37194943\" data-song-menuid=\"67220101\"><span class=\"odd_span\">좋아요</span><span class=\"cnt\"><span class=\"none\">총건수</span>108,998</span></button>`\n",
    "    * `like_cnt`: 좋아요 수\n",
    "        * `<span class=\"cnt\"> <span class=\"none\">총건수</span> 582 </span>`\n",
    "    * `updt_date`: 업데이트 날짜\n",
    "        * `<span class=\"date\">2024.03.12 수정</span>`"
   ]
  },
  {
   "cell_type": "code",
   "execution_count": null,
   "metadata": {},
   "outputs": [],
   "source": [
    "#pc.do_crawling_ply()"
   ]
  },
  {
   "cell_type": "markdown",
   "metadata": {},
   "source": [
    "# uri 크롤링"
   ]
  },
  {
   "cell_type": "code",
   "execution_count": 2,
   "metadata": {},
   "outputs": [
    {
     "name": "stdout",
     "output_type": "stream",
     "text": [
      "c:\\Users\\SSAFY\\Desktop\\songah\\crawling\\S10P22A506\\crawling\n"
     ]
    }
   ],
   "source": [
    "import os\n",
    "\n",
    "print(os.getcwd())"
   ]
  },
  {
   "cell_type": "code",
   "execution_count": 7,
   "metadata": {},
   "outputs": [
    {
     "name": "stdout",
     "output_type": "stream",
     "text": [
      "105 ['song_20240331_0.csv', 'song_20240331_100.csv', 'song_20240331_2500.csv', 'song_20240331_2600.csv', 'song_20240331_2700.csv', 'song_20240331_5000.csv', 'song_20240331_5100.csv', 'song_20240331_7500.csv', 'song_20240331_7600.csv', 'song_20240401_1000.csv', 'song_20240401_10000.csv', 'song_20240401_1100.csv', 'song_20240401_1200.csv', 'song_20240401_1300.csv', 'song_20240401_1400.csv', 'song_20240401_1500.csv', 'song_20240401_1600.csv', 'song_20240401_1700.csv', 'song_20240401_1800.csv', 'song_20240401_1900.csv', 'song_20240401_200.csv', 'song_20240401_2000.csv', 'song_20240401_2100.csv', 'song_20240401_2200.csv', 'song_20240401_2300.csv', 'song_20240401_2400.csv', 'song_20240401_2500.csv', 'song_20240401_2700.csv', 'song_20240401_2800.csv', 'song_20240401_2900.csv', 'song_20240401_300.csv', 'song_20240401_3000.csv', 'song_20240401_3100.csv', 'song_20240401_3200.csv', 'song_20240401_3300.csv', 'song_20240401_3400.csv', 'song_20240401_3500.csv', 'song_20240401_3600.csv', 'song_20240401_3700.csv', 'song_20240401_3800.csv', 'song_20240401_3900.csv', 'song_20240401_400.csv', 'song_20240401_4000.csv', 'song_20240401_4100.csv', 'song_20240401_4200.csv', 'song_20240401_4300.csv', 'song_20240401_4400.csv', 'song_20240401_4500.csv', 'song_20240401_4600.csv', 'song_20240401_4700.csv', 'song_20240401_4800.csv', 'song_20240401_4900.csv', 'song_20240401_500.csv', 'song_20240401_5000.csv', 'song_20240401_5200.csv', 'song_20240401_5300.csv', 'song_20240401_5400.csv', 'song_20240401_5500.csv', 'song_20240401_5600.csv', 'song_20240401_5700.csv', 'song_20240401_5800.csv', 'song_20240401_5900.csv', 'song_20240401_600.csv', 'song_20240401_6000.csv', 'song_20240401_6100.csv', 'song_20240401_6200.csv', 'song_20240401_6300.csv', 'song_20240401_6400.csv', 'song_20240401_6500.csv', 'song_20240401_6600.csv', 'song_20240401_6700.csv', 'song_20240401_6800.csv', 'song_20240401_6900.csv', 'song_20240401_700.csv', 'song_20240401_7000.csv', 'song_20240401_7100.csv', 'song_20240401_7200.csv', 'song_20240401_7300.csv', 'song_20240401_7400.csv', 'song_20240401_7500.csv', 'song_20240401_7700.csv', 'song_20240401_7800.csv', 'song_20240401_7900.csv', 'song_20240401_800.csv', 'song_20240401_8000.csv', 'song_20240401_8100.csv', 'song_20240401_8200.csv', 'song_20240401_8300.csv', 'song_20240401_8400.csv', 'song_20240401_8500.csv', 'song_20240401_8600.csv', 'song_20240401_8700.csv', 'song_20240401_8800.csv', 'song_20240401_8900.csv', 'song_20240401_900.csv', 'song_20240401_9000.csv', 'song_20240401_9100.csv', 'song_20240401_9200.csv', 'song_20240401_9300.csv', 'song_20240401_9400.csv', 'song_20240401_9500.csv', 'song_20240401_9600.csv', 'song_20240401_9700.csv', 'song_20240401_9800.csv', 'song_20240401_9900.csv']\n"
     ]
    }
   ],
   "source": [
    "PATH = './data'\n",
    "\n",
    "files = os.listdir(PATH)\n",
    "csv_files = [file for file in files if file.endswith('.csv') and file.startswith(\"song_2024\")]\n",
    "print(len(csv_files), csv_files)"
   ]
  },
  {
   "cell_type": "code",
   "execution_count": null,
   "metadata": {},
   "outputs": [],
   "source": []
  }
 ],
 "metadata": {
  "kernelspec": {
   "display_name": "Python 3",
   "language": "python",
   "name": "python3"
  },
  "language_info": {
   "codemirror_mode": {
    "name": "ipython",
    "version": 3
   },
   "file_extension": ".py",
   "mimetype": "text/x-python",
   "name": "python",
   "nbconvert_exporter": "python",
   "pygments_lexer": "ipython3",
   "version": "3.12.1"
  }
 },
 "nbformat": 4,
 "nbformat_minor": 2
}
