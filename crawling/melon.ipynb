{
 "cells": [
  {
   "cell_type": "code",
   "execution_count": 1,
   "metadata": {},
   "outputs": [
    {
     "name": "stderr",
     "output_type": "stream",
     "text": [
      "C:\\Users\\SSAFY\\AppData\\Local\\Temp\\ipykernel_27988\\3067030889.py:9: DeprecationWarning: \n",
      "Pyarrow will become a required dependency of pandas in the next major release of pandas (pandas 3.0),\n",
      "(to allow more performant data types, such as the Arrow string type, and better interoperability with other libraries)\n",
      "but was not found to be installed on your system.\n",
      "If this would cause problems for you,\n",
      "please provide us feedback at https://github.com/pandas-dev/pandas/issues/54466\n",
      "        \n",
      "  import pandas as pd\n"
     ]
    }
   ],
   "source": [
    "from selenium import webdriver\n",
    "from webdriver_manager.chrome import ChromeDriverManager\n",
    "from selenium.webdriver.chrome.service import Service\n",
    "from selenium.webdriver.common.by import By\n",
    "from datetime import datetime, timedelta\n",
    "from selenium.webdriver.support.ui import WebDriverWait\n",
    "from selenium.webdriver.support import expected_conditions as EC\n",
    "import time\n",
    "import pandas as pd"
   ]
  },
  {
   "cell_type": "markdown",
   "metadata": {},
   "source": [
    "# 노래 크롤링"
   ]
  },
  {
   "cell_type": "markdown",
   "metadata": {},
   "source": [
    "* song_meta\n",
    "    * `issue_date`: 발행 날짜\n",
    "    * `album_name`: 앨범 이름\n",
    "    * `album_id`: 앨범 id\n",
    "    * `artist_id_basket`: 아티스트 id리스트\n",
    "    * `song_name`: 노래 이름\n",
    "    * `song_gn_gnr_basket`: 장르 코드 리스트\n",
    "    * `artist_name_basket`: 아티스트 이름 리스트\n",
    "    * `id`: 아이디"
   ]
  },
  {
   "cell_type": "code",
   "execution_count": 2,
   "metadata": {},
   "outputs": [],
   "source": [
    "from melon_plylist_crawling import PlylistCrawler"
   ]
  },
  {
   "cell_type": "code",
   "execution_count": 3,
   "metadata": {},
   "outputs": [],
   "source": [
    "pc = PlylistCrawler(\"../data/plylist_id.csv\", \"../data/plylist.csv\", \"../data/genre_cat1.csv\", \"../data/song.csv\")"
   ]
  },
  {
   "cell_type": "code",
   "execution_count": 4,
   "metadata": {},
   "outputs": [
    {
     "name": "stderr",
     "output_type": "stream",
     "text": [
      "  0%|          | 0/40817 [00:00<?, ?it/s]"
     ]
    },
    {
     "name": "stderr",
     "output_type": "stream",
     "text": [
      "  0%|          | 173/40817 [35:39<197:23:00, 17.48s/it]"
     ]
    },
    {
     "ename": "",
     "evalue": "",
     "output_type": "error",
     "traceback": [
      "\u001b[1;31mThe Kernel crashed while executing code in the the current cell or a previous cell. Please review the code in the cell(s) to identify a possible cause of the failure. Click <a href='https://aka.ms/vscodeJupyterKernelCrash'>here</a> for more info. View Jupyter <a href='command:jupyter.viewOutput'>log</a> for further details."
     ]
    }
   ],
   "source": [
    "pc.do_crawling_song()"
   ]
  },
  {
   "cell_type": "markdown",
   "metadata": {},
   "source": [
    "# 플레이리스트 크롤링"
   ]
  },
  {
   "cell_type": "code",
   "execution_count": null,
   "metadata": {},
   "outputs": [],
   "source": [
    "#from melon_plylist_crawling import PlylistCrawler"
   ]
  },
  {
   "cell_type": "code",
   "execution_count": null,
   "metadata": {},
   "outputs": [],
   "source": [
    "#pc = PlylistCrawler(\"../data/plylist_id.csv\", \"../data/plylist.csv\")"
   ]
  },
  {
   "cell_type": "markdown",
   "metadata": {},
   "source": [
    "* 플레이리스트 id 얻기\n",
    "    * `div class = \"service_list_play d_djcol_list\"`\n",
    "        * `ul` > `li` > `div class=\"thumb\"` 클릭 이동\n",
    "        * `ul` > `li` > `div class=\"entry\"` > `div class=\"meta\"` > `button class=\"button_etc like btn_djplylst_like\" data-djcol-no=플레이리스트 id` "
   ]
  },
  {
   "cell_type": "code",
   "execution_count": null,
   "metadata": {},
   "outputs": [],
   "source": [
    "#pc.do_crawling_ply_id()"
   ]
  },
  {
   "cell_type": "markdown",
   "metadata": {},
   "source": [
    "* 플레이리스트 데이터 얻기\n",
    "    * `id`: 플레이리스트 id\n",
    "    * `plylist_title`: 플레이리스트 제목\n",
    "        * `<div class=\"ellipsis song_name\"> 음악이라도 들으면서, 같이 산책할래?</div>`\n",
    "    * `tags`: 태그 리스트\n",
    "        * `<div class=\"tag_list type03\"><a href=\"javascript:MELON.WEBSVC.POC.link.goDjTagHub('24');\" class=\"tag_item\"><span>#봄</span></a></div>`\n",
    "    * `songs`: 노래 리스트\n",
    "        * `https://www.melon.com/mymusic/dj/mymusicdjplaylistview_inform.htm?plylstSeq=534972919#params%5BplylstSeq%5D=534972919&po=pageObj&startIndex=51`\n",
    "        * `<button type=\"button\" class=\"button_etc like\" title=\"밤양갱 좋아요\" data-song-no=\"37194943\" data-song-menuid=\"67220101\"><span class=\"odd_span\">좋아요</span><span class=\"cnt\"><span class=\"none\">총건수</span>108,998</span></button>`\n",
    "    * `like_cnt`: 좋아요 수\n",
    "        * `<span class=\"cnt\"> <span class=\"none\">총건수</span> 582 </span>`\n",
    "    * `updt_date`: 업데이트 날짜\n",
    "        * `<span class=\"date\">2024.03.12 수정</span>`"
   ]
  },
  {
   "cell_type": "code",
   "execution_count": null,
   "metadata": {},
   "outputs": [],
   "source": [
    "#pc.do_crawling_ply()"
   ]
  }
 ],
 "metadata": {
  "kernelspec": {
   "display_name": "Python 3",
   "language": "python",
   "name": "python3"
  },
  "language_info": {
   "codemirror_mode": {
    "name": "ipython",
    "version": 3
   },
   "file_extension": ".py",
   "mimetype": "text/x-python",
   "name": "python",
   "nbconvert_exporter": "python",
   "pygments_lexer": "ipython3",
   "version": "3.12.1"
  }
 },
 "nbformat": 4,
 "nbformat_minor": 2
}
