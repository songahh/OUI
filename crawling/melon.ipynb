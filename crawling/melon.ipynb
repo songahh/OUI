{
 "cells": [
  {
   "cell_type": "code",
   "execution_count": 1,
   "metadata": {},
   "outputs": [
    {
     "name": "stderr",
     "output_type": "stream",
     "text": [
      "C:\\Users\\SSAFY\\AppData\\Local\\Temp\\ipykernel_51044\\3067030889.py:9: DeprecationWarning: \n",
      "Pyarrow will become a required dependency of pandas in the next major release of pandas (pandas 3.0),\n",
      "(to allow more performant data types, such as the Arrow string type, and better interoperability with other libraries)\n",
      "but was not found to be installed on your system.\n",
      "If this would cause problems for you,\n",
      "please provide us feedback at https://github.com/pandas-dev/pandas/issues/54466\n",
      "        \n",
      "  import pandas as pd\n"
     ]
    }
   ],
   "source": [
    "from selenium import webdriver\n",
    "from webdriver_manager.chrome import ChromeDriverManager\n",
    "from selenium.webdriver.chrome.service import Service\n",
    "from selenium.webdriver.common.by import By\n",
    "from datetime import datetime, timedelta\n",
    "from selenium.webdriver.support.ui import WebDriverWait\n",
    "from selenium.webdriver.support import expected_conditions as EC\n",
    "import time\n",
    "import pandas as pd"
   ]
  },
  {
   "cell_type": "markdown",
   "metadata": {},
   "source": [
    "# 플레이리스트 크롤링"
   ]
  },
  {
   "cell_type": "code",
   "execution_count": 2,
   "metadata": {},
   "outputs": [],
   "source": [
    "from melon_plylist_crawling import PlylistCrawler"
   ]
  },
  {
   "cell_type": "code",
   "execution_count": 3,
   "metadata": {},
   "outputs": [],
   "source": [
    "pc = PlylistCrawler(\"../data/plylist_id.csv\", \"../data/plylist.csv\")"
   ]
  },
  {
   "cell_type": "markdown",
   "metadata": {},
   "source": [
    "* 플레이리스트 id 얻기\n",
    "    * `div class = \"service_list_play d_djcol_list\"`\n",
    "        * `ul` > `li` > `div class=\"thumb\"` 클릭 이동\n",
    "        * `ul` > `li` > `div class=\"entry\"` > `div class=\"meta\"` > `button class=\"button_etc like btn_djplylst_like\" data-djcol-no=플레이리스트 id` "
   ]
  },
  {
   "cell_type": "code",
   "execution_count": 4,
   "metadata": {},
   "outputs": [],
   "source": [
    "#pc.do_crawling_ply_id()"
   ]
  },
  {
   "cell_type": "markdown",
   "metadata": {},
   "source": [
    "* 플레이리스트 데이터 얻기\n",
    "    * `id`: 플레이리스트 id\n",
    "    * `plylist_title`: 플레이리스트 제목\n",
    "        * `<div class=\"ellipsis song_name\"> 음악이라도 들으면서, 같이 산책할래?</div>`\n",
    "    * `tags`: 태그 리스트\n",
    "        * `<div class=\"tag_list type03\"><a href=\"javascript:MELON.WEBSVC.POC.link.goDjTagHub('24');\" class=\"tag_item\"><span>#봄</span></a></div>`\n",
    "    * `songs`: 노래 리스트\n",
    "        * `https://www.melon.com/mymusic/dj/mymusicdjplaylistview_inform.htm?plylstSeq=534972919#params%5BplylstSeq%5D=534972919&po=pageObj&startIndex=51`\n",
    "        * `<button type=\"button\" class=\"button_etc like\" title=\"밤양갱 좋아요\" data-song-no=\"37194943\" data-song-menuid=\"67220101\"><span class=\"odd_span\">좋아요</span><span class=\"cnt\"><span class=\"none\">총건수</span>108,998</span></button>`\n",
    "    * `like_cnt`: 좋아요 수\n",
    "        * `<span class=\"cnt\"> <span class=\"none\">총건수</span> 582 </span>`\n",
    "    * `updt_date`: 업데이트 날짜\n",
    "        * `<span class=\"date\">2024.03.12 수정</span>`"
   ]
  },
  {
   "cell_type": "code",
   "execution_count": 5,
   "metadata": {},
   "outputs": [
    {
     "name": "stderr",
     "output_type": "stream",
     "text": [
      "  0%|          | 0/1387 [00:00<?, ?it/s]"
     ]
    },
    {
     "name": "stderr",
     "output_type": "stream",
     "text": [
      "100%|██████████| 1387/1387 [10:06:49<00:00, 26.25s/it]  \n"
     ]
    },
    {
     "name": "stdout",
     "output_type": "stream",
     "text": [
      "크롤링 종료\n",
      "error_id: {514396107}\n"
     ]
    },
    {
     "ename": "KeyError",
     "evalue": "514396107",
     "output_type": "error",
     "traceback": [
      "\u001b[1;31m---------------------------------------------------------------------------\u001b[0m",
      "\u001b[1;31mKeyError\u001b[0m                                  Traceback (most recent call last)",
      "Cell \u001b[1;32mIn[5], line 1\u001b[0m\n\u001b[1;32m----> 1\u001b[0m \u001b[43mpc\u001b[49m\u001b[38;5;241;43m.\u001b[39;49m\u001b[43mdo_crawling_ply\u001b[49m\u001b[43m(\u001b[49m\u001b[43m)\u001b[49m\n",
      "File \u001b[1;32mc:\\Users\\SSAFY\\Desktop\\songah\\S10P22A506\\crawling\\melon_plylist_crawling.py:163\u001b[0m, in \u001b[0;36mPlylistCrawler.do_crawling_ply\u001b[1;34m(self)\u001b[0m\n\u001b[0;32m    161\u001b[0m \u001b[38;5;28mprint\u001b[39m(\u001b[38;5;124m\"\u001b[39m\u001b[38;5;124m크롤링 종료\u001b[39m\u001b[38;5;124m\"\u001b[39m)\n\u001b[0;32m    162\u001b[0m \u001b[38;5;28mprint\u001b[39m(\u001b[38;5;124mf\u001b[39m\u001b[38;5;124m\"\u001b[39m\u001b[38;5;124merror_id: \u001b[39m\u001b[38;5;132;01m{\u001b[39;00merror_id\u001b[38;5;132;01m}\u001b[39;00m\u001b[38;5;124m\"\u001b[39m)\n\u001b[1;32m--> 163\u001b[0m \u001b[38;5;28;43mself\u001b[39;49m\u001b[38;5;241;43m.\u001b[39;49m\u001b[43m__export_plylst_to_csv\u001b[49m\u001b[43m(\u001b[49m\u001b[43m)\u001b[49m\n",
      "File \u001b[1;32mc:\\Users\\SSAFY\\Desktop\\songah\\S10P22A506\\crawling\\melon_plylist_crawling.py:174\u001b[0m, in \u001b[0;36mPlylistCrawler.__export_plylst_to_csv\u001b[1;34m(self)\u001b[0m\n\u001b[0;32m    172\u001b[0m data \u001b[38;5;241m=\u001b[39m []\n\u001b[0;32m    173\u001b[0m \u001b[38;5;28;01mfor\u001b[39;00m ply_id \u001b[38;5;129;01min\u001b[39;00m \u001b[38;5;28mself\u001b[39m\u001b[38;5;241m.\u001b[39mplylist_id:\n\u001b[1;32m--> 174\u001b[0m     row \u001b[38;5;241m=\u001b[39m {\u001b[38;5;124m\"\u001b[39m\u001b[38;5;124mid\u001b[39m\u001b[38;5;124m\"\u001b[39m: ply_id, \u001b[38;5;124m\"\u001b[39m\u001b[38;5;124mtags\u001b[39m\u001b[38;5;124m\"\u001b[39m:\u001b[38;5;28;43mself\u001b[39;49m\u001b[38;5;241;43m.\u001b[39;49m\u001b[43mtags\u001b[49m\u001b[43m[\u001b[49m\u001b[43mply_id\u001b[49m\u001b[43m]\u001b[49m, \u001b[38;5;124m\"\u001b[39m\u001b[38;5;124msongs\u001b[39m\u001b[38;5;124m\"\u001b[39m:\u001b[38;5;28mself\u001b[39m\u001b[38;5;241m.\u001b[39msongs[ply_id], \u001b[38;5;124m\"\u001b[39m\u001b[38;5;124mlike_cnt\u001b[39m\u001b[38;5;124m\"\u001b[39m:\u001b[38;5;28mself\u001b[39m\u001b[38;5;241m.\u001b[39mlike_cnt[ply_id], \u001b[38;5;124m\"\u001b[39m\u001b[38;5;124mupdt_date\u001b[39m\u001b[38;5;124m\"\u001b[39m:\u001b[38;5;28mself\u001b[39m\u001b[38;5;241m.\u001b[39mupdt_date[ply_id], \u001b[38;5;124m\"\u001b[39m\u001b[38;5;124mplylist_title\u001b[39m\u001b[38;5;124m\"\u001b[39m:\u001b[38;5;28mself\u001b[39m\u001b[38;5;241m.\u001b[39mplylist_title[ply_id]}\n\u001b[0;32m    175\u001b[0m     data\u001b[38;5;241m.\u001b[39mappend(row)\n\u001b[0;32m    177\u001b[0m plylist_df\u001b[38;5;241m=\u001b[39mpd\u001b[38;5;241m.\u001b[39mDataFrame(data)\n",
      "\u001b[1;31mKeyError\u001b[0m: 514396107"
     ]
    }
   ],
   "source": [
    "pc.do_crawling_ply()"
   ]
  },
  {
   "cell_type": "markdown",
   "metadata": {},
   "source": [
    "# 노래 크롤링"
   ]
  },
  {
   "cell_type": "code",
   "execution_count": null,
   "metadata": {},
   "outputs": [],
   "source": []
  },
  {
   "cell_type": "code",
   "execution_count": null,
   "metadata": {},
   "outputs": [],
   "source": []
  },
  {
   "cell_type": "code",
   "execution_count": null,
   "metadata": {},
   "outputs": [],
   "source": []
  },
  {
   "cell_type": "code",
   "execution_count": null,
   "metadata": {},
   "outputs": [],
   "source": []
  }
 ],
 "metadata": {
  "kernelspec": {
   "display_name": "Python 3",
   "language": "python",
   "name": "python3"
  },
  "language_info": {
   "codemirror_mode": {
    "name": "ipython",
    "version": 3
   },
   "file_extension": ".py",
   "mimetype": "text/x-python",
   "name": "python",
   "nbconvert_exporter": "python",
   "pygments_lexer": "ipython3",
   "version": "3.12.1"
  }
 },
 "nbformat": 4,
 "nbformat_minor": 2
}
