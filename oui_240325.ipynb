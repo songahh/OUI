{
 "cells": [
  {
   "cell_type": "markdown",
   "id": "3ab0fa98-a2be-40f8-8163-0a67346a66f4",
   "metadata": {},
   "source": [
    "# OUI"
   ]
  },
  {
   "cell_type": "markdown",
   "id": "b90e0d87-5897-4adc-9873-fd94ace9576b",
   "metadata": {},
   "source": [
    "### package load 및 device 지정"
   ]
  },
  {
   "cell_type": "code",
   "execution_count": 1,
   "id": "51da7edb-72f9-4bcc-a370-a136d8d28884",
   "metadata": {},
   "outputs": [],
   "source": [
    "import torch\n",
    "from torch import nn\n",
    "import torch.nn.functional as F\n",
    "import torch.optim as optim\n",
    "from torch.utils.data import Dataset, DataLoader\n",
    "import gluonnlp as nlp\n",
    "import numpy as np\n",
    "from tqdm.notebook import tqdm\n",
    "import pandas as pd"
   ]
  },
  {
   "cell_type": "code",
   "execution_count": 2,
   "id": "34a33eca-3547-4a04-8846-f1e920d6c9a3",
   "metadata": {},
   "outputs": [],
   "source": [
    "from kobert import get_tokenizer\n",
    "from kobert import get_pytorch_kobert_model"
   ]
  },
  {
   "cell_type": "code",
   "execution_count": 3,
   "id": "37d53e82-ada4-4c6d-bc15-ef7da3927778",
   "metadata": {},
   "outputs": [],
   "source": [
    "from transformers import AdamW\n",
    "from transformers.optimization import get_cosine_schedule_with_warmup"
   ]
  },
  {
   "cell_type": "code",
   "execution_count": 4,
   "id": "9f8d9bff-8978-4c1b-a257-d56653465083",
   "metadata": {},
   "outputs": [
    {
     "name": "stdout",
     "output_type": "stream",
     "text": [
      "cuda:3\n"
     ]
    }
   ],
   "source": [
    "import os\n",
    "\n",
    "os.environ[\"CUDA_DEVICE_ORDER\"] = \"PCI_BUS_ID\"\n",
    "#os.environ[\"CUDA_VISIBLE_DEVICES\"] = \"3\"\n",
    "#os.environ['CUDA_LAUNCH_BLOCKING'] = \"1\"\n",
    "#os.environ[\"TORCH_USE_CUDA_DSA\"] = '1'\n",
    "#device = torch.device(\"cuda:3\" if torch.cuda.is_available() else \"cpu\")\n",
    "#torch.cuda.device_count()\n",
    "device = torch.device(\"cuda:3\")\n",
    "print(device)"
   ]
  },
  {
   "cell_type": "code",
   "execution_count": 5,
   "id": "5ef344dc-3205-4f4f-b525-c7db81c22731",
   "metadata": {},
   "outputs": [],
   "source": [
    "emotion_to_idx = {0:'분노', 1:'중립', 2:'당황', 3:'슬픔', 4:'기쁨', 5:'불안', 6:'느긋'}\n",
    "idx_to_emotion = {\"분노\": 0, \"중립\":1, \"당황\":2, \"슬픔\":3, \"기쁨\":4, \"불안\":5, \"느긋\":6}"
   ]
  },
  {
   "cell_type": "code",
   "execution_count": 6,
   "id": "118a4f14-fdf9-4ea5-bcbb-8934b82c7a19",
   "metadata": {},
   "outputs": [
    {
     "ename": "NameError",
     "evalue": "name 'all_df' is not defined",
     "output_type": "error",
     "traceback": [
      "\u001b[0;31m---------------------------------------------------------------------------\u001b[0m",
      "\u001b[0;31mNameError\u001b[0m                                 Traceback (most recent call last)",
      "Cell \u001b[0;32mIn[6], line 2\u001b[0m\n\u001b[1;32m      1\u001b[0m \u001b[38;5;28;01mimport\u001b[39;00m \u001b[38;5;21;01mre\u001b[39;00m\n\u001b[0;32m----> 2\u001b[0m all_df[\u001b[38;5;124m\"\u001b[39m\u001b[38;5;124mcat1_idx\u001b[39m\u001b[38;5;124m\"\u001b[39m] \u001b[38;5;241m=\u001b[39m \u001b[43mall_df\u001b[49m[\u001b[38;5;124m\"\u001b[39m\u001b[38;5;124mcat1\u001b[39m\u001b[38;5;124m\"\u001b[39m]\u001b[38;5;241m.\u001b[39mmap(\u001b[38;5;28;01mlambda\u001b[39;00m row: idx_to_emotion[row])\n\u001b[1;32m      3\u001b[0m all_df[\u001b[38;5;124m\"\u001b[39m\u001b[38;5;124msentence\u001b[39m\u001b[38;5;124m\"\u001b[39m] \u001b[38;5;241m=\u001b[39m all_df[\u001b[38;5;124m\"\u001b[39m\u001b[38;5;124msentence\u001b[39m\u001b[38;5;124m\"\u001b[39m]\u001b[38;5;241m.\u001b[39mapply(\u001b[38;5;28;01mlambda\u001b[39;00m x: re\u001b[38;5;241m.\u001b[39msub(\u001b[38;5;124mr\u001b[39m\u001b[38;5;124m'\u001b[39m\u001b[38;5;124m[\u001b[39m\u001b[38;5;124m\"\u001b[39m\u001b[38;5;130;01m\\'\u001b[39;00m\u001b[38;5;124m]\u001b[39m\u001b[38;5;124m'\u001b[39m, \u001b[38;5;124m'\u001b[39m\u001b[38;5;124m'\u001b[39m, x))\n\u001b[1;32m      4\u001b[0m all_df \u001b[38;5;241m=\u001b[39m all_df[[\u001b[38;5;124m\"\u001b[39m\u001b[38;5;124msentence\u001b[39m\u001b[38;5;124m\"\u001b[39m, \u001b[38;5;124m\"\u001b[39m\u001b[38;5;124mcat1_idx\u001b[39m\u001b[38;5;124m\"\u001b[39m]]\n",
      "\u001b[0;31mNameError\u001b[0m: name 'all_df' is not defined"
     ]
    }
   ],
   "source": [
    "import re\n",
    "all_df[\"cat1_idx\"] = all_df[\"cat1\"].map(lambda row: idx_to_emotion[row])\n",
    "all_df[\"sentence\"] = all_df[\"sentence\"].apply(lambda x: re.sub(r'[\"\\']', '', x))\n",
    "all_df = all_df[[\"sentence\", \"cat1_idx\"]]\n",
    "all_df.head(3)"
   ]
  },
  {
   "cell_type": "code",
   "execution_count": null,
   "id": "04b89ff4-8baf-401f-976f-2cee570bb176",
   "metadata": {},
   "outputs": [],
   "source": [
    "batch_size = 64\n",
    "max_len = 64"
   ]
  },
  {
   "cell_type": "markdown",
   "id": "72321491-de20-412f-8ef0-4980c75b404b",
   "metadata": {},
   "source": [
    "### 데이터세트 구성"
   ]
  },
  {
   "cell_type": "code",
   "execution_count": 7,
   "id": "ca0dbd7c-2c6a-4822-a8a1-3be5fbfb822a",
   "metadata": {},
   "outputs": [],
   "source": [
    "train_dataset = nlp.data.TSVDataset(os.path.join(\"../dataset\", \"train.tsv\"), num_discard_samples=1)\n",
    "test_dataset = nlp.data.TSVDataset(os.path.join(\"../dataset\", \"valid.tsv\"), num_discard_samples=1)"
   ]
  },
  {
   "cell_type": "code",
   "execution_count": 8,
   "id": "84543657-a646-4d6b-9e6f-6bd33cd621c3",
   "metadata": {
    "scrolled": true
   },
   "outputs": [
    {
     "name": "stdout",
     "output_type": "stream",
     "text": [
      "using cached model. /home/j-j10a506/oui/KoBERT/.cache/kobert_v1.zip\n",
      "using cached model. /home/j-j10a506/oui/KoBERT/.cache/kobert_news_wiki_ko_cased-1087f8699e.spiece\n"
     ]
    }
   ],
   "source": [
    "bertmodel, vocab = get_pytorch_kobert_model(cachedir=\".cache\")"
   ]
  },
  {
   "cell_type": "code",
   "execution_count": 9,
   "id": "9dfd2ff2-9efd-438d-b5e0-8a4ffdbe229d",
   "metadata": {},
   "outputs": [
    {
     "name": "stdout",
     "output_type": "stream",
     "text": [
      "using cached model. /home/j-j10a506/oui/KoBERT/.cache/kobert_news_wiki_ko_cased-1087f8699e.spiece\n"
     ]
    }
   ],
   "source": [
    "tokenizer = get_tokenizer()\n",
    "tok = nlp.data.BERTSPTokenizer(tokenizer, vocab, lower=False)"
   ]
  },
  {
   "cell_type": "code",
   "execution_count": 10,
   "id": "447fc987-6a51-4419-9bd6-2cc50f440ed9",
   "metadata": {},
   "outputs": [],
   "source": [
    "batch_size = 64\n",
    "max_len = 100"
   ]
  },
  {
   "cell_type": "code",
   "execution_count": 11,
   "id": "462e4221-0d71-4eab-b18f-817b942c0447",
   "metadata": {},
   "outputs": [],
   "source": [
    "class BERTDataset(Dataset):\n",
    "    def __init__(self, dataset, sent_idx, label_idx, bert_tokenizer, max_len,\n",
    "                 pad, pair):\n",
    "        transform = nlp.data.BERTSentenceTransform(\n",
    "            bert_tokenizer, max_seq_length=max_len, pad=pad, pair=pair)\n",
    "\n",
    "        self.sentences = []\n",
    "        self.labels = []\n",
    "        for i in dataset:\n",
    "            if len(i)!=2:\n",
    "                continue\n",
    "\n",
    "            self.sentences.append(transform([i[sent_idx]]))\n",
    "            self.labels.append(np.int32(i[label_idx]))\n",
    "        \n",
    "\n",
    "    def __getitem__(self, i):\n",
    "        return (self.sentences[i] + (self.labels[i], ))\n",
    "\n",
    "    def __len__(self):\n",
    "        return (len(self.labels))"
   ]
  },
  {
   "cell_type": "code",
   "execution_count": 12,
   "id": "9d33d8de-1932-438b-a777-2f9ee6627a7b",
   "metadata": {},
   "outputs": [],
   "source": [
    "data_train = BERTDataset(train_dataset, 0, 1, tok, max_len, True, False)\n",
    "data_test = BERTDataset(test_dataset, 0, 1, tok, max_len, True, False)"
   ]
  },
  {
   "cell_type": "code",
   "execution_count": 13,
   "id": "31c5960b-e6db-4c22-946a-bc39d46c864e",
   "metadata": {},
   "outputs": [],
   "source": [
    "train_dataloader = DataLoader(data_train, batch_size=batch_size, num_workers=5)\n",
    "test_dataloader = DataLoader(data_test, batch_size=batch_size, num_workers=5)"
   ]
  },
  {
   "cell_type": "markdown",
   "id": "7c843ccc-488f-408c-a0ca-a89aa8e173fa",
   "metadata": {},
   "source": [
    "### kobert load\n",
    "* 하이퍼파라미터 조정\n",
    "  * dropout 비율\n",
    "  * learning rate\n",
    "  * warmup_ratio\n",
    "  * learning_rate\n",
    "  * max_grad_norm"
   ]
  },
  {
   "cell_type": "code",
   "execution_count": 14,
   "id": "24c48518-e358-4082-8ea0-35e0f31bb99c",
   "metadata": {},
   "outputs": [],
   "source": [
    "class BERTClassifier(nn.Module):\n",
    "    def __init__(self,\n",
    "                 bert,\n",
    "                 hidden_size = 768,\n",
    "                 num_classes=7,\n",
    "                 dr_rate=None,\n",
    "                 params=None):\n",
    "        super(BERTClassifier, self).__init__()\n",
    "        self.bert = bert\n",
    "        self.dr_rate = dr_rate\n",
    "                 \n",
    "        self.classifier = nn.Linear(hidden_size , num_classes)\n",
    "        if dr_rate:\n",
    "            self.dropout = nn.Dropout(p=dr_rate)\n",
    "    \n",
    "    def gen_attention_mask(self, token_ids, valid_length):\n",
    "        attention_mask = torch.zeros_like(token_ids)\n",
    "        for i, v in enumerate(valid_length):\n",
    "            attention_mask[i][:v] = 1\n",
    "        return attention_mask.float()\n",
    "\n",
    "    def forward(self, token_ids, valid_length, segment_ids):\n",
    "        attention_mask = self.gen_attention_mask(token_ids, valid_length)\n",
    "        \n",
    "        _, pooler = self.bert(input_ids = token_ids, token_type_ids = segment_ids.long(), attention_mask = attention_mask.float().to(token_ids.device))\n",
    "        if self.dr_rate:\n",
    "            out = self.dropout(pooler)\n",
    "        else:\n",
    "            out = pooler\n",
    "        return self.classifier(out)"
   ]
  },
  {
   "cell_type": "code",
   "execution_count": 15,
   "id": "49db92d8-6561-4435-b52f-1ccd3d047758",
   "metadata": {},
   "outputs": [],
   "source": [
    "model = BERTClassifier(bertmodel,  dr_rate=0.5).to(device)"
   ]
  },
  {
   "cell_type": "markdown",
   "id": "d9a1d7f8-4380-4ed0-bf3d-3e6f32cc3d9f",
   "metadata": {},
   "source": [
    "### 학습\n",
    "* best 모델 저장\n",
    "* epoch 수: 최대 20회"
   ]
  },
  {
   "cell_type": "code",
   "execution_count": 16,
   "id": "8373d3ee-a1eb-4e24-92dd-921b3c1c53b1",
   "metadata": {},
   "outputs": [],
   "source": [
    "## Setting parameters\n",
    "warmup_ratio = 0.1 # 학습률 warm up 비율로 학습률을 초기에 점진적으로 높이는데 사용\n",
    "num_epochs = 20\n",
    "max_grad_norm = 1 # Gradient clipping에 사용됨 \n",
    "log_interval = 200\n",
    "learning_rate =  1e-5"
   ]
  },
  {
   "cell_type": "code",
   "execution_count": 17,
   "id": "430e97a1-4395-4a40-977c-ccb6d9fac93c",
   "metadata": {},
   "outputs": [],
   "source": [
    "no_decay = ['bias', 'LayerNorm.weight']\n",
    "optimizer_grouped_parameters = [\n",
    "    {'params': [p for n, p in model.named_parameters() if not any(nd in n for nd in no_decay)], 'weight_decay': 0.01},\n",
    "    {'params': [p for n, p in model.named_parameters() if any(nd in n for nd in no_decay)], 'weight_decay': 0.0}\n",
    "]"
   ]
  },
  {
   "cell_type": "code",
   "execution_count": 18,
   "id": "f14711b8-1dce-406f-b22e-7c4b81258a3a",
   "metadata": {},
   "outputs": [],
   "source": [
    "optimizer = AdamW(optimizer_grouped_parameters, lr=learning_rate)\n",
    "loss_fn = nn.CrossEntropyLoss()"
   ]
  },
  {
   "cell_type": "code",
   "execution_count": 19,
   "id": "e5905dd1-41f8-4f79-a48a-e4eb6d4cf313",
   "metadata": {},
   "outputs": [],
   "source": [
    "t_total = len(train_dataloader) * num_epochs\n",
    "warmup_step = int(t_total * warmup_ratio)"
   ]
  },
  {
   "cell_type": "code",
   "execution_count": 20,
   "id": "48db2088-5dd7-41cd-8473-13b73c6851d6",
   "metadata": {},
   "outputs": [],
   "source": [
    "scheduler = get_cosine_schedule_with_warmup(optimizer, num_warmup_steps=warmup_step, num_training_steps=t_total)"
   ]
  },
  {
   "cell_type": "code",
   "execution_count": 21,
   "id": "fc3d482a-d279-4006-9a75-ac535384deb0",
   "metadata": {},
   "outputs": [],
   "source": [
    "def calc_accuracy(X,Y):\n",
    "    max_vals, max_indices = torch.max(X, 1)\n",
    "    train_acc = (max_indices == Y).sum().data.cpu().numpy()/max_indices.size()[0]\n",
    "    return train_acc"
   ]
  },
  {
   "cell_type": "code",
   "execution_count": null,
   "id": "24161bdd-2b89-453b-ace0-df8a1f8e27bb",
   "metadata": {},
   "outputs": [
    {
     "data": {
      "application/vnd.jupyter.widget-view+json": {
       "model_id": "dfbb5e455b414b2d8c5d698f7afa2982",
       "version_major": 2,
       "version_minor": 0
      },
      "text/plain": [
       "  0%|          | 0/1110 [00:00<?, ?it/s]"
      ]
     },
     "metadata": {},
     "output_type": "display_data"
    },
    {
     "name": "stdout",
     "output_type": "stream",
     "text": [
      "epoch 1 batch id 1 loss 2.0457327365875244 train acc 0.03125\n",
      "epoch 1 batch id 201 loss 1.8949710130691528 train acc 0.2605721393034826\n",
      "epoch 1 batch id 401 loss 1.8288354873657227 train acc 0.27879519950124687\n",
      "epoch 1 batch id 601 loss 1.866255760192871 train acc 0.2880615640599002\n",
      "epoch 1 batch id 801 loss 1.502577781677246 train acc 0.2993913857677903\n",
      "epoch 1 batch id 1001 loss 1.6591631174087524 train acc 0.3123126873126873\n",
      "epoch 1 train acc 0.32150321277159516\n"
     ]
    },
    {
     "data": {
      "application/vnd.jupyter.widget-view+json": {
       "model_id": "65d53f4d41b5469aad22c4ecc1d8122b",
       "version_major": 2,
       "version_minor": 0
      },
      "text/plain": [
       "  0%|          | 0/278 [00:00<?, ?it/s]"
      ]
     },
     "metadata": {},
     "output_type": "display_data"
    },
    {
     "name": "stdout",
     "output_type": "stream",
     "text": [
      "epoch 1 test acc 0.4506070143884892\n"
     ]
    },
    {
     "data": {
      "application/vnd.jupyter.widget-view+json": {
       "model_id": "c480662d9138447cae6ecb871e3d5f20",
       "version_major": 2,
       "version_minor": 0
      },
      "text/plain": [
       "  0%|          | 0/1110 [00:00<?, ?it/s]"
      ]
     },
     "metadata": {},
     "output_type": "display_data"
    },
    {
     "name": "stdout",
     "output_type": "stream",
     "text": [
      "epoch 2 batch id 1 loss 1.8545799255371094 train acc 0.375\n",
      "epoch 2 batch id 201 loss 1.4597697257995605 train acc 0.45110385572139305\n",
      "epoch 2 batch id 401 loss 1.4061851501464844 train acc 0.47194513715710723\n",
      "epoch 2 batch id 601 loss 1.2707788944244385 train acc 0.4862728785357737\n",
      "epoch 2 batch id 801 loss 1.1698009967803955 train acc 0.49666432584269665\n",
      "epoch 2 batch id 1001 loss 1.0975662469863892 train acc 0.5026848151848152\n",
      "epoch 2 train acc 0.5069256756756757\n"
     ]
    },
    {
     "data": {
      "application/vnd.jupyter.widget-view+json": {
       "model_id": "70a65bd6df914ace9fe2685412e1b184",
       "version_major": 2,
       "version_minor": 0
      },
      "text/plain": [
       "  0%|          | 0/278 [00:00<?, ?it/s]"
      ]
     },
     "metadata": {},
     "output_type": "display_data"
    },
    {
     "name": "stdout",
     "output_type": "stream",
     "text": [
      "epoch 2 test acc 0.5532936151079137\n"
     ]
    },
    {
     "data": {
      "application/vnd.jupyter.widget-view+json": {
       "model_id": "0fcedb90085742a79d57cd96b011f1e7",
       "version_major": 2,
       "version_minor": 0
      },
      "text/plain": [
       "  0%|          | 0/1110 [00:00<?, ?it/s]"
      ]
     },
     "metadata": {},
     "output_type": "display_data"
    },
    {
     "name": "stdout",
     "output_type": "stream",
     "text": [
      "epoch 3 batch id 1 loss 1.4266597032546997 train acc 0.546875\n",
      "epoch 3 batch id 201 loss 1.1954253911972046 train acc 0.550761815920398\n",
      "epoch 3 batch id 401 loss 1.2541453838348389 train acc 0.5515897755610972\n",
      "epoch 3 batch id 601 loss 1.0679904222488403 train acc 0.5563383943427621\n",
      "epoch 3 batch id 801 loss 1.004834532737732 train acc 0.5601201622971286\n",
      "epoch 3 batch id 1001 loss 0.9544792175292969 train acc 0.561781968031968\n",
      "epoch 3 train acc 0.5630580948595655\n"
     ]
    },
    {
     "data": {
      "application/vnd.jupyter.widget-view+json": {
       "model_id": "c703175901704427bb743b9d3993ab54",
       "version_major": 2,
       "version_minor": 0
      },
      "text/plain": [
       "  0%|          | 0/278 [00:00<?, ?it/s]"
      ]
     },
     "metadata": {},
     "output_type": "display_data"
    },
    {
     "name": "stdout",
     "output_type": "stream",
     "text": [
      "epoch 3 test acc 0.5721470323741007\n"
     ]
    },
    {
     "data": {
      "application/vnd.jupyter.widget-view+json": {
       "model_id": "5a6c3d9a29ce41cf949f11a9067db455",
       "version_major": 2,
       "version_minor": 0
      },
      "text/plain": [
       "  0%|          | 0/1110 [00:00<?, ?it/s]"
      ]
     },
     "metadata": {},
     "output_type": "display_data"
    },
    {
     "name": "stdout",
     "output_type": "stream",
     "text": [
      "epoch 4 batch id 1 loss 1.217409610748291 train acc 0.640625\n",
      "epoch 4 batch id 201 loss 1.0904052257537842 train acc 0.584110696517413\n",
      "epoch 4 batch id 401 loss 1.1373180150985718 train acc 0.5836970074812967\n",
      "epoch 4 batch id 601 loss 1.0073188543319702 train acc 0.586730449251248\n",
      "epoch 4 batch id 801 loss 0.9366891384124756 train acc 0.589146379525593\n"
     ]
    }
   ],
   "source": [
    "for e in range(num_epochs):\n",
    "    train_acc = 0.0\n",
    "    test_acc = 0.0\n",
    "    model.train()\n",
    "    for batch_id, (token_ids, valid_length, segment_ids, label) in tqdm(enumerate(train_dataloader), total=len(train_dataloader)):\n",
    "        optimizer.zero_grad()\n",
    "        token_ids = token_ids.long().to(device)\n",
    "        segment_ids = segment_ids.long().to(device)\n",
    "        valid_length= valid_length\n",
    "        label = label.long().to(device)\n",
    "        out = model(token_ids, valid_length, segment_ids)\n",
    "        loss = loss_fn(out, label)\n",
    "        loss.backward()\n",
    "        torch.nn.utils.clip_grad_norm_(model.parameters(), max_grad_norm)\n",
    "        optimizer.step()\n",
    "        scheduler.step()  # Update learning rate schedule\n",
    "        train_acc += calc_accuracy(out, label)\n",
    "        if batch_id % log_interval == 0:\n",
    "            print(\"epoch {} batch id {} loss {} train acc {}\".format(e+1, batch_id+1, loss.data.cpu().numpy(), train_acc / (batch_id+1)))\n",
    "    print(\"epoch {} train acc {}\".format(e+1, train_acc / (batch_id+1)))\n",
    "    model.eval()\n",
    "\n",
    "    for batch_id, (token_ids, valid_length, segment_ids, label) in tqdm(enumerate(test_dataloader), total=len(test_dataloader)):\n",
    "        token_ids = token_ids.long().to(device)\n",
    "        segment_ids = segment_ids.long().to(device)\n",
    "        valid_length= valid_length\n",
    "        label = label.long().to(device)\n",
    "        out = model(token_ids, valid_length, segment_ids)\n",
    "        test_acc += calc_accuracy(out, label)\n",
    "    print(\"epoch {} test acc {}\".format(e+1, test_acc / (batch_id+1)))"
   ]
  },
  {
   "cell_type": "code",
   "execution_count": null,
   "id": "b5035828-bb53-446c-b99e-d1898aab7fd6",
   "metadata": {},
   "outputs": [],
   "source": [
    "MODEL_PATH = \"../myModel\"\n",
    "torch.save(model.state_dict(), os.path.join(MODEL_PATH, \"oui_20240325_2.pt\"))"
   ]
  },
  {
   "cell_type": "code",
   "execution_count": null,
   "id": "8dc88a43-2ac1-4913-91b4-1b0a3f0d5cce",
   "metadata": {},
   "outputs": [],
   "source": [
    "# https://velog.io/@fhflwhwl5/Python-KoBERT-7%EA%B0%80%EC%A7%80-%EA%B0%90%EC%A0%95%EC%9D%98-%EB%8B%A4%EC%A4%91%EA%B0%90%EC%84%B1%EB%B6%84%EB%A5%98%EB%AA%A8%EB%8D%B8-%EA%B5%AC%ED%98%84%ED%95%98%EA%B8%B0"
   ]
  },
  {
   "cell_type": "code",
   "execution_count": null,
   "id": "072537b0-c912-45c9-8ea7-b6e3ab675dd6",
   "metadata": {},
   "outputs": [],
   "source": []
  }
 ],
 "metadata": {
  "kernelspec": {
   "display_name": "oui3.8",
   "language": "python",
   "name": "oui3.8"
  },
  "language_info": {
   "codemirror_mode": {
    "name": "ipython",
    "version": 3
   },
   "file_extension": ".py",
   "mimetype": "text/x-python",
   "name": "python",
   "nbconvert_exporter": "python",
   "pygments_lexer": "ipython3",
   "version": "3.8.19"
  }
 },
 "nbformat": 4,
 "nbformat_minor": 5
}
